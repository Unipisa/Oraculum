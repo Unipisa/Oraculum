{
 "cells": [
  {
   "cell_type": "markdown",
   "metadata": {},
   "source": [
    "# OraculumLocalBox for _pwsh_\n",
    "\n",
    "There are two way to setup and experiment with a local installation of Oraculum and Sibylla. This interactive notebook is designed to explain how to use PowerShell to install and manage Oraculum and Sibylla on a local machine.\n",
    "\n",
    "You can run these commands interactively in a PowerShell terminal without need for this notebook. However, this notebook is designed to be a step-by-step guide to setting up a local installation of Oraculum and Sibylla.\n",
    "\n",
    "You need to install _Docker_ on your system and WSL2 if you are on Windows. You can find instructions for installing Docker on your system [here](https://docs.docker.com/get-docker/). You can find instructions for installing WSL2 on Windows [here](https://docs.microsoft.com/en-us/windows/wsl/install-win10).\n",
    "\n",
    "Depending on whether you are in *Windows* or *macOS*, the relative file reference changes appropriately, for example: ```./weaviate.secret.yml``` becomes ```.\\weaviate.secret.yml```\n",
    "\n",
    "\n",
    "## Keys\n",
    "\n",
    "In this notebook we reference _oraculum.secret.conf_ and _weaviate.secret.yml_. Those are copies of _oraculum.conf_ and _weaviate.yml_ where you should indicate you OpenAI org id and key. You can get those from the [OpenAI dashboard](https://platform.openai.com/account/api-keys).\n",
    "\n",
    "## First run\n",
    "\n",
    "The initial deployment of _Oraculum_ requires the schema initialization first, then the Facts data structure can be populated. Follow the steps (in some cases a timeout may require re-evaluate the cell, or even restarting the kernels if stuck in evaluation):"
   ]
  },
  {
   "cell_type": "code",
   "execution_count": 4,
   "metadata": {
    "dotnet_interactive": {
     "language": "pwsh"
    },
    "polyglot_notebook": {
     "kernelName": "pwsh"
    },
    "vscode": {
     "languageId": "polyglot-notebook"
    }
   },
   "outputs": [
    {
     "name": "stdout",
     "output_type": "stream",
     "text": [
      "\u001b[31;1m Container weaviate  Creating\u001b[0m\n",
      "\u001b[31;1m Container weaviate  Created\u001b[0m\n",
      "\u001b[31;1m Container weaviate  Starting\u001b[0m\n",
      "\u001b[31;1m Container weaviate  Started\u001b[0m\n"
     ]
    }
   ],
   "source": [
    "# Start the _Weaviate_\n",
    "docker-compose -f ./weaviate.secret.yml up -d"
   ]
  },
  {
   "cell_type": "markdown",
   "metadata": {},
   "source": [
    "You also need to install _Oraculum_ module from PowerShell Gallery. You can do that by running the following command in a PowerShell terminal:"
   ]
  },
  {
   "cell_type": "code",
   "execution_count": 1,
   "metadata": {
    "dotnet_interactive": {
     "language": "pwsh"
    },
    "polyglot_notebook": {
     "kernelName": "pwsh"
    },
    "vscode": {
     "languageId": "polyglot-notebook"
    }
   },
   "outputs": [],
   "source": [
    "Install-Module Oraculum"
   ]
  },
  {
   "cell_type": "markdown",
   "metadata": {},
   "source": [
    "To initialize or reset the schema you use the `Reset-Schema` command. Notice that you will be prompted for entering an OTP to avoind unwanted exectution. Inside Visual Studio Code pay attention to the top of the window where an input box will be shown:"
   ]
  },
  {
   "cell_type": "code",
   "execution_count": 4,
   "metadata": {
    "dotnet_interactive": {
     "language": "pwsh"
    },
    "polyglot_notebook": {
     "kernelName": "pwsh"
    },
    "vscode": {
     "languageId": "polyglot-notebook"
    }
   },
   "outputs": [
    {
     "name": "stdout",
     "output_type": "stream",
     "text": [
      "\n",
      "\u001b[95mSchema reset\u001b[0m\n",
      "To reset the schema type in the code 813000\n",
      "True\n"
     ]
    }
   ],
   "source": [
    "Reset-Schema"
   ]
  },
  {
   "cell_type": "markdown",
   "metadata": {},
   "source": [
    "Now can we import Oraculum module and connect with the previously filled secrets"
   ]
  },
  {
   "cell_type": "code",
   "execution_count": 5,
   "metadata": {
    "dotnet_interactive": {
     "language": "pwsh"
    },
    "polyglot_notebook": {
     "kernelName": "pwsh"
    },
    "vscode": {
     "languageId": "polyglot-notebook"
    }
   },
   "outputs": [
    {
     "name": "stdout",
     "output_type": "stream",
     "text": [
      "\n",
      "\u001b[32;1mConfiguration          IsConnected\u001b[0m\n",
      "\u001b[32;1m-------------          -----------\u001b[0m\n",
      "Oraculum.Configuration        True\n",
      "\n"
     ]
    }
   ],
   "source": [
    "Import-Module Oraculum\n",
    "\n",
    "Connect-Oraculum -ConfigFile ./oraculum.secret.conf"
   ]
  },
  {
   "cell_type": "markdown",
   "metadata": {},
   "source": [
    "Now you can check that the fact class is empty:"
   ]
  },
  {
   "cell_type": "code",
   "execution_count": 6,
   "metadata": {
    "dotnet_interactive": {
     "language": "pwsh"
    },
    "polyglot_notebook": {
     "kernelName": "pwsh"
    },
    "vscode": {
     "languageId": "polyglot-notebook"
    }
   },
   "outputs": [
    {
     "name": "stdout",
     "output_type": "stream",
     "text": [
      "0\n"
     ]
    }
   ],
   "source": [
    "Get-TotalFact"
   ]
  },
  {
   "cell_type": "markdown",
   "metadata": {},
   "source": [
    "## Manage facts repository in _Oraculum_\n",
    "\n",
    "Now that you have the system up and running you can start adding facts to the repository. You can do that by using the `Add-Fact` command. The command takes a single parameter, the fact to be added.\n",
    "\n",
    "Remember to import the module and connect to _Oraculum_ first:"
   ]
  },
  {
   "cell_type": "code",
   "execution_count": 7,
   "metadata": {
    "dotnet_interactive": {
     "language": "pwsh"
    },
    "polyglot_notebook": {
     "kernelName": "pwsh"
    },
    "vscode": {
     "languageId": "polyglot-notebook"
    }
   },
   "outputs": [
    {
     "name": "stdout",
     "output_type": "stream",
     "text": [
      "\n",
      "\u001b[32;1mConfiguration          IsConnected\u001b[0m\n",
      "\u001b[32;1m-------------          -----------\u001b[0m\n",
      "Oraculum.Configuration        True\n",
      "\n"
     ]
    }
   ],
   "source": [
    "Import-Module Oraculum\n",
    "Connect-Oraculum -ConfigFile ./oraculum.secret.conf"
   ]
  },
  {
   "cell_type": "markdown",
   "metadata": {},
   "source": [
    "\n",
    "We first load a set of FAQs from a JSON file:"
   ]
  },
  {
   "cell_type": "code",
   "execution_count": 8,
   "metadata": {
    "dotnet_interactive": {
     "language": "pwsh"
    },
    "polyglot_notebook": {
     "kernelName": "pwsh"
    },
    "vscode": {
     "languageId": "polyglot-notebook"
    }
   },
   "outputs": [],
   "source": [
    "$json = Get-Content ./qamoviedb.json | ConvertFrom-Json\n",
    "$n = 1\n",
    "$json |% { Add-Fact -Category movie -FactType faq -Title $_.q -Content $_.a -Citation (\"FAQ#\" + $n++) }"
   ]
  },
  {
   "cell_type": "markdown",
   "metadata": {},
   "source": [
    "Note that we have added facts individually, this may take a while. The command `Add-Facts` would have been much faster but we should have created an array of `Fact` objects first. For small loads it is easier to add facts individually.\n",
    "\n",
    "Now we can check that the facts have been added:"
   ]
  },
  {
   "cell_type": "code",
   "execution_count": 9,
   "metadata": {
    "dotnet_interactive": {
     "language": "pwsh"
    },
    "polyglot_notebook": {
     "kernelName": "pwsh"
    },
    "vscode": {
     "languageId": "polyglot-notebook"
    }
   },
   "outputs": [
    {
     "name": "stdout",
     "output_type": "stream",
     "text": [
      "287\n"
     ]
    }
   ],
   "source": [
    "Get-TotalFact"
   ]
  },
  {
   "cell_type": "markdown",
   "metadata": {},
   "source": [
    "You can use the `Get-Fact` command to retrieve a fact by its id, and the `Get-Facts` command to retrieve all facts in the repository. The `Get-Facts` command takes a single parameter, the number of facts to retrieve. If you do not specify a number, the limit is set to 1024:"
   ]
  },
  {
   "cell_type": "code",
   "execution_count": 10,
   "metadata": {
    "dotnet_interactive": {
     "language": "pwsh"
    },
    "polyglot_notebook": {
     "kernelName": "pwsh"
    },
    "vscode": {
     "languageId": "polyglot-notebook"
    }
   },
   "outputs": [
    {
     "name": "stdout",
     "output_type": "stream",
     "text": [
      "\n",
      "\u001b[32;1mid               : \u001b[0m00ecee9f-8646-493d-b454-0cea42161b6d\n",
      "\u001b[32;1mdistance         : \u001b[0m\n",
      "\u001b[32;1mfactType         : \u001b[0mfaq\n",
      "\u001b[32;1mcategory         : \u001b[0mmovie\n",
      "\u001b[32;1mtags             : \u001b[0m\n",
      "\u001b[32;1mtitle            : \u001b[0mThe office that has the lead role in preparing materials requested in a \n",
      "                   developmental task can be referred to as the ______ Office. Fill in the one \n",
      "                   word “A” blank, a word also used to describe movies such as “Die Hard” and “The \n",
      "                   Fast And The Furious.”\n",
      "\u001b[32;1mcontent          : \u001b[0mAction Office\n",
      "\u001b[32;1mcitation         : \u001b[0mFAQ#144\n",
      "\u001b[32;1mreference        : \u001b[0m\n",
      "\u001b[32;1mexpiration       : \u001b[0m\n",
      "\u001b[32;1mlocation         : \u001b[0m\n",
      "\u001b[32;1mlocationDistance : \u001b[0m\n",
      "\u001b[32;1mlocationName     : \u001b[0m\n",
      "\u001b[32;1meditPrincipals   : \u001b[0m\n",
      "\u001b[32;1mvalidFrom        : \u001b[0m\n",
      "\u001b[32;1mvalidTo          : \u001b[0m\n",
      "\u001b[32;1mfactAdded        : \u001b[0m\n",
      "\n",
      "\u001b[32;1mid               : \u001b[0m020f2d10-f65f-49d5-a3c8-2da037395ed4\n",
      "\u001b[32;1mdistance         : \u001b[0m\n",
      "\u001b[32;1mfactType         : \u001b[0mfaq\n",
      "\u001b[32;1mcategory         : \u001b[0mmovie\n",
      "\u001b[32;1mtags             : \u001b[0m\n",
      "\u001b[32;1mtitle            : \u001b[0m\"We'll always have Paris\" and \"Here's looking at you, kid\" are among the \n",
      "                   memorable quotes from what classic 1943 film?\n",
      "\u001b[32;1mcontent          : \u001b[0mCasablanca\n",
      "\u001b[32;1mcitation         : \u001b[0mFAQ#124\n",
      "\u001b[32;1mreference        : \u001b[0m\n",
      "\u001b[32;1mexpiration       : \u001b[0m\n",
      "\u001b[32;1mlocation         : \u001b[0m\n",
      "\u001b[32;1mlocationDistance : \u001b[0m\n",
      "\u001b[32;1mlocationName     : \u001b[0m\n",
      "\u001b[32;1meditPrincipals   : \u001b[0m\n",
      "\u001b[32;1mvalidFrom        : \u001b[0m\n",
      "\u001b[32;1mvalidTo          : \u001b[0m\n",
      "\u001b[32;1mfactAdded        : \u001b[0m\n",
      "\n",
      "\u001b[32;1mid               : \u001b[0m021f13b3-2187-4ee3-9dd1-0d8de6acb8b6\n",
      "\u001b[32;1mdistance         : \u001b[0m\n",
      "\u001b[32;1mfactType         : \u001b[0mfaq\n",
      "\u001b[32;1mcategory         : \u001b[0mmovie\n",
      "\u001b[32;1mtags             : \u001b[0m\n",
      "\u001b[32;1mtitle            : \u001b[0mTo what year does Marty McFly get sent back to in the original Back to the \n",
      "                   Future?\n",
      "\u001b[32;1mcontent          : \u001b[0m1955\n",
      "\u001b[32;1mcitation         : \u001b[0mFAQ#127\n",
      "\u001b[32;1mreference        : \u001b[0m\n",
      "\u001b[32;1mexpiration       : \u001b[0m\n",
      "\u001b[32;1mlocation         : \u001b[0m\n",
      "\u001b[32;1mlocationDistance : \u001b[0m\n",
      "\u001b[32;1mlocationName     : \u001b[0m\n",
      "\u001b[32;1meditPrincipals   : \u001b[0m\n",
      "\u001b[32;1mvalidFrom        : \u001b[0m\n",
      "\u001b[32;1mvalidTo          : \u001b[0m\n",
      "\u001b[32;1mfactAdded        : \u001b[0m\n",
      "\n",
      "\u001b[32;1mid               : \u001b[0m02310577-3baa-410c-8509-5bb1627ef3d6\n",
      "\u001b[32;1mdistance         : \u001b[0m\n",
      "\u001b[32;1mfactType         : \u001b[0mfaq\n",
      "\u001b[32;1mcategory         : \u001b[0mmovie\n",
      "\u001b[32;1mtags             : \u001b[0m\n",
      "\u001b[32;1mtitle            : \u001b[0mWhat classic literary villain, described as a “Machiavellian schemer and \n",
      "                   manipulator” shares his name with an avian sidekick in the Disney film \n",
      "                   \"Aladdin?\"\n",
      "\u001b[32;1mcontent          : \u001b[0mIago\n",
      "\u001b[32;1mcitation         : \u001b[0mFAQ#125\n",
      "\u001b[32;1mreference        : \u001b[0m\n",
      "\u001b[32;1mexpiration       : \u001b[0m\n",
      "\u001b[32;1mlocation         : \u001b[0m\n",
      "\u001b[32;1mlocationDistance : \u001b[0m\n",
      "\u001b[32;1mlocationName     : \u001b[0m\n",
      "\u001b[32;1meditPrincipals   : \u001b[0m\n",
      "\u001b[32;1mvalidFrom        : \u001b[0m\n",
      "\u001b[32;1mvalidTo          : \u001b[0m\n",
      "\u001b[32;1mfactAdded        : \u001b[0m\n",
      "\n",
      "\u001b[32;1mid               : \u001b[0m06945968-7819-4606-9526-2c70d741329f\n",
      "\u001b[32;1mdistance         : \u001b[0m\n",
      "\u001b[32;1mfactType         : \u001b[0mfaq\n",
      "\u001b[32;1mcategory         : \u001b[0mmovie\n",
      "\u001b[32;1mtags             : \u001b[0m\n",
      "\u001b[32;1mtitle            : \u001b[0mCharlie Babbitt abducts his older brother Raymond from a Cincinnati \n",
      "                   assisted-living facility at the start of what road-tripping '80s Best Picture \n",
      "                   Oscar winner?\n",
      "\u001b[32;1mcontent          : \u001b[0mRain Man\n",
      "\u001b[32;1mcitation         : \u001b[0mFAQ#84\n",
      "\u001b[32;1mreference        : \u001b[0m\n",
      "\u001b[32;1mexpiration       : \u001b[0m\n",
      "\u001b[32;1mlocation         : \u001b[0m\n",
      "\u001b[32;1mlocationDistance : \u001b[0m\n",
      "\u001b[32;1mlocationName     : \u001b[0m\n",
      "\u001b[32;1meditPrincipals   : \u001b[0m\n",
      "\u001b[32;1mvalidFrom        : \u001b[0m\n",
      "\u001b[32;1mvalidTo          : \u001b[0m\n",
      "\u001b[32;1mfactAdded        : \u001b[0m\n",
      "\n",
      "\n"
     ]
    }
   ],
   "source": [
    "Get-Facts -Limit 5"
   ]
  },
  {
   "cell_type": "markdown",
   "metadata": {},
   "source": [
    "If you are running in a windows terminal you can use the `Out-GridView` command to display the facts in a separate window:\n",
    "\n",
    "    Get-Facts | Out-GridView"
   ]
  },
  {
   "cell_type": "markdown",
   "metadata": {},
   "source": [
    "_Oraculum_ uses _Weaviate_ ability to order facts by the embedding of the query (closer vectors are more relevant *even if the query is expressed in a different language than the one of the facts*). The Find-RelevantFacts command is used to see the distance between a query and the facts in the repository:"
   ]
  },
  {
   "cell_type": "code",
   "execution_count": 14,
   "metadata": {
    "dotnet_interactive": {
     "language": "pwsh"
    },
    "polyglot_notebook": {
     "kernelName": "pwsh"
    },
    "vscode": {
     "languageId": "polyglot-notebook"
    }
   },
   "outputs": [
    {
     "name": "stdout",
     "output_type": "stream",
     "text": [
      "\n",
      "\u001b[32;1mdistance title\u001b[0m\n",
      "\u001b[32;1m-------- -----                                                                                     \u001b[0m\n",
      "   0,144 What is the name of the carnivorous creature from Tatooine that C-3PO is talking about wh…\n",
      "   0,199 In the affectionate Star Wars parody, “Space Balls,” the film renames the slimy crime lor…\n",
      "   0,204 Jabba The Hut’s pet/sidekick in \"Return Of The Jedi\", a noisy little rodent, is named Sal…\n",
      "   0,211 George Lucas is on record saying that its shape was inspired by a hamburger, how is the l…\n",
      "   0,213 What hyperspace route passing by the Maw nebula did Han Solo traverse in the Millenium Fa…\n",
      "\n"
     ]
    }
   ],
   "source": [
    "Find-RelevantFacts -Query \"What do you know about Sarlacc?\" -Limit 5 | select distance, title, content"
   ]
  },
  {
   "cell_type": "markdown",
   "metadata": {},
   "source": [
    "## Starting a Sibylla session\n",
    "\n",
    "You can easily test your Sibylla session by using the `New-SibyllaSession` command. This command takes a single parameter, the configuration of the session. The command will interactively ask for prompts and will display answers until `#quit` will not be entered (again pay attention to the top of the Visual Studio Code window for the input box):"
   ]
  },
  {
   "cell_type": "code",
   "execution_count": 15,
   "metadata": {
    "dotnet_interactive": {
     "language": "pwsh"
    },
    "polyglot_notebook": {
     "kernelName": "pwsh"
    },
    "vscode": {
     "languageId": "polyglot-notebook"
    }
   },
   "outputs": [
    {
     "name": "stdout",
     "output_type": "stream",
     "text": [
      "\u001b[93;40mAssistant: Hello from your personal movie assistant. I know curiosities about 287 movies, try me!\u001b[0m\n",
      "You: \u001b[93;40mAssistant: \u001b[0m\u001b[93;40mSure\u001b[0m\u001b[93;40m!\u001b[0m\u001b[93;40m Here\u001b[0m\u001b[93;40m's\u001b[0m\u001b[93;40m a\u001b[0m\u001b[93;40m Star\u001b[0m\u001b[93;40m Wars\u001b[0m\u001b[93;40m movie\u001b[0m\u001b[93;40m curiosity\u001b[0m\u001b[93;40m for\u001b[0m\u001b[93;40m you\u001b[0m\u001b[93;40m:\u001b[0m\u001b[93;40m Daisy\u001b[0m\u001b[93;40m Ridley\u001b[0m\u001b[93;40m made\u001b[0m\u001b[93;40m her\u001b[0m\u001b[93;40m first\u001b[0m\u001b[93;40m appearance\u001b[0m\u001b[93;40m as\u001b[0m\u001b[93;40m Rey\u001b[0m\u001b[93;40m in\u001b[0m\u001b[93;40m the\u001b[0m\u001b[93;40m movie\u001b[0m\u001b[93;40m \"\u001b[0m\u001b[93;40mThe\u001b[0m\u001b[93;40m Force\u001b[0m\u001b[93;40m Aw\u001b[0m\u001b[93;40makens\u001b[0m\u001b[93;40m\"\u001b[0m [\u001b[93;40mFAQ\u001b[0m\u001b[93;40m#\u001b[0m\u001b[93;40m39\u001b[0m\u001b[93;40m].\u001b[0m\u001b[93;40m Do\u001b[0m\u001b[93;40m you\u001b[0m\u001b[93;40m want\u001b[0m\u001b[93;40m to\u001b[0m\u001b[93;40m know\u001b[0m\u001b[93;40m more\u001b[0m\u001b[93;40m about\u001b[0m\u001b[93;40m Star\u001b[0m\u001b[93;40m Wars\u001b[0m\u001b[93;40m or\u001b[0m\u001b[93;40m do\u001b[0m\u001b[93;40m you\u001b[0m\u001b[93;40m have\u001b[0m\u001b[93;40m any\u001b[0m\u001b[93;40m other\u001b[0m\u001b[93;40m movie\u001b[0m\u001b[93;40m-related\u001b[0m\u001b[93;40m questions\u001b[0m\u001b[93;40m?\u001b[0m\n",
      "You: "
     ]
    },
    {
     "ename": "Error",
     "evalue": "Input request cancelled",
     "output_type": "error",
     "traceback": [
      "Input request cancelled"
     ]
    },
    {
     "ename": "Error",
     "evalue": "Input request cancelled",
     "output_type": "error",
     "traceback": [
      "Input request cancelled"
     ]
    },
    {
     "name": "stdout",
     "output_type": "stream",
     "text": [
      "\u001b[31;1mNew-SibyllaSession: \u001b[31;1mInput request cancelled\u001b[0m\n"
     ]
    },
    {
     "ename": "Error",
     "evalue": "Command failed: SubmitCode: New-SibyllaSession -ConfigFile ./sibylla.conf",
     "output_type": "error",
     "traceback": [
      "Command failed: SubmitCode: New-SibyllaSession -ConfigFile ./sibylla.conf"
     ]
    }
   ],
   "source": [
    "New-SibyllaSession -ConfigFile ./sibylla.conf"
   ]
  }
 ],
 "metadata": {
  "language_info": {
   "name": "csharp"
  },
  "orig_nbformat": 4
 },
 "nbformat": 4,
 "nbformat_minor": 2
}
