{
 "cells": [
  {
   "cell_type": "markdown",
   "metadata": {},
   "source": [
    "# OraculumLocalBox for _pwsh_\n",
    "\n",
    "There are two way to setup and experiment with a local installation of Oraculum and Sibylla. This interactive notebook is designed to explain how to use PowerShell to install and manage Oraculum and Sibylla on a local machine.\n",
    "\n",
    "You can run these commands interactively in a PowerShell terminal without need for this notebook. However, this notebook is designed to be a step-by-step guide to setting up a local installation of Oraculum and Sibylla.\n",
    "\n",
    "You need to install _Docker_ on your system and WSL2 if you are on Windows. You can find instructions for installing Docker on your system [here](https://docs.docker.com/get-docker/). You can find instructions for installing WSL2 on Windows [here](https://docs.microsoft.com/en-us/windows/wsl/install-win10).\n",
    "\n",
    "## Keys\n",
    "\n",
    "In this notebook we reference _oraculum.secret.conf_ and _weaviate.secret.yml_. Those are copies of _oraculum.conf_ and _weaviate.yml_ where you should indicate you OpenAI org id and key. You can get those from the [OpenAI dashboard](https://platform.openai.com/account/api-keys).\n",
    "\n",
    "## First run\n",
    "\n",
    "The initial deployment of _Oraculum_ requires the schema initialization first, then the Facts data structure can be populated. Follow the steps (in some cases a timeout may require re-evaluate the cell, or even restarting the kernels if stuck in evaluation):"
   ]
  },
  {
   "cell_type": "code",
   "execution_count": 2,
   "metadata": {
    "dotnet_interactive": {
     "language": "pwsh"
    },
    "polyglot_notebook": {
     "kernelName": "pwsh"
    },
    "vscode": {
     "languageId": "polyglot-notebook"
    }
   },
   "outputs": [
    {
     "name": "stdout",
     "output_type": "stream",
     "text": [
      "\u001b[31;1m Container weaviate  Running\u001b[0m\r\n"
     ]
    }
   ],
   "source": [
    "# Start the _Weaviate_\n",
    "docker-compose -f .\\weaviate.secret.yml up -d"
   ]
  },
  {
   "cell_type": "markdown",
   "metadata": {},
   "source": [
    "You also need to install _Oraculum_ module from PowerShell Gallery. You can do that by running the following command in a PowerShell terminal:"
   ]
  },
  {
   "cell_type": "code",
   "execution_count": 3,
   "metadata": {
    "dotnet_interactive": {
     "language": "pwsh"
    },
    "polyglot_notebook": {
     "kernelName": "pwsh"
    },
    "vscode": {
     "languageId": "polyglot-notebook"
    }
   },
   "outputs": [],
   "source": [
    "Install-Module Oraculum"
   ]
  },
  {
   "cell_type": "code",
   "execution_count": 5,
   "metadata": {
    "dotnet_interactive": {
     "language": "pwsh"
    },
    "polyglot_notebook": {
     "kernelName": "pwsh"
    },
    "vscode": {
     "languageId": "polyglot-notebook"
    }
   },
   "outputs": [
    {
     "name": "stdout",
     "output_type": "stream",
     "text": [
      "\n",
      "\u001b[32;1mConfiguration          IsConnected\u001b[0m\n",
      "\u001b[32;1m-------------          -----------\u001b[0m\n",
      "Oraculum.Configuration        True\n",
      "\n"
     ]
    }
   ],
   "source": [
    "Import-Module Oraculum\n",
    "\n",
    "Connect-Oraculum -ConfigFile .\\oraculum.secret.conf"
   ]
  },
  {
   "cell_type": "markdown",
   "metadata": {},
   "source": [
    "To initialize or reset the schema you use the `Reset-Schema` command. Notice that you will be prompted for entering an OTP to avoind unwanted exectution. Inside Visual Studio Code pay attention to the top of the window where an input box will be shown:"
   ]
  },
  {
   "cell_type": "code",
   "execution_count": 8,
   "metadata": {
    "dotnet_interactive": {
     "language": "pwsh"
    },
    "polyglot_notebook": {
     "kernelName": "pwsh"
    },
    "vscode": {
     "languageId": "polyglot-notebook"
    }
   },
   "outputs": [
    {
     "name": "stdout",
     "output_type": "stream",
     "text": [
      "\n",
      "\u001b[95mSchema reset\u001b[0m\n",
      "To reset the schema type in the code 384061\n",
      "True\n"
     ]
    }
   ],
   "source": [
    "Reset-Schema"
   ]
  },
  {
   "cell_type": "markdown",
   "metadata": {},
   "source": [
    "Now you can check that the fact class is empty:"
   ]
  },
  {
   "cell_type": "code",
   "execution_count": 9,
   "metadata": {
    "dotnet_interactive": {
     "language": "pwsh"
    },
    "polyglot_notebook": {
     "kernelName": "pwsh"
    },
    "vscode": {
     "languageId": "polyglot-notebook"
    }
   },
   "outputs": [
    {
     "name": "stdout",
     "output_type": "stream",
     "text": [
      "0\r\n"
     ]
    }
   ],
   "source": [
    "Get-TotalFact"
   ]
  },
  {
   "cell_type": "markdown",
   "metadata": {},
   "source": [
    "## Manage facts repository in _Oraculum_\n",
    "\n",
    "Now that you have the system up and running you can start adding facts to the repository. You can do that by using the `Add-Fact` command. The command takes a single parameter, the fact to be added.\n",
    "\n",
    "Remember to import the module and connect to _Oraculum_ first:"
   ]
  },
  {
   "cell_type": "code",
   "execution_count": 3,
   "metadata": {
    "dotnet_interactive": {
     "language": "pwsh"
    },
    "polyglot_notebook": {
     "kernelName": "pwsh"
    },
    "vscode": {
     "languageId": "polyglot-notebook"
    }
   },
   "outputs": [
    {
     "name": "stdout",
     "output_type": "stream",
     "text": [
      "\n",
      "\u001b[32;1mConfiguration          IsConnected\u001b[0m\n",
      "\u001b[32;1m-------------          -----------\u001b[0m\n",
      "Oraculum.Configuration        True\n",
      "\n"
     ]
    }
   ],
   "source": [
    "Import-Module Oraculum\n",
    "Connect-Oraculum -ConfigFile .\\oraculum.secret.conf"
   ]
  },
  {
   "cell_type": "markdown",
   "metadata": {},
   "source": [
    "\n",
    "We first load a set of FAQs from a JSON file:"
   ]
  },
  {
   "cell_type": "code",
   "execution_count": 11,
   "metadata": {
    "dotnet_interactive": {
     "language": "pwsh"
    },
    "polyglot_notebook": {
     "kernelName": "pwsh"
    },
    "vscode": {
     "languageId": "polyglot-notebook"
    }
   },
   "outputs": [],
   "source": [
    "$json = Get-Content .\\qamoviedb.json | ConvertFrom-Json\n",
    "$json |% { Add-Fact -Category movie -FactType faq -Title $_.q -Content $_.a }"
   ]
  },
  {
   "cell_type": "markdown",
   "metadata": {},
   "source": [
    "Note that we have added facts individually, this may take a while. The command `Add-Facts` would have been much faster but we should have created an array of `Fact` objects first. For small loads it is easier to add facts individually.\n",
    "\n",
    "Now we can check that the facts have been added:"
   ]
  },
  {
   "cell_type": "code",
   "execution_count": 12,
   "metadata": {
    "dotnet_interactive": {
     "language": "pwsh"
    },
    "polyglot_notebook": {
     "kernelName": "pwsh"
    },
    "vscode": {
     "languageId": "polyglot-notebook"
    }
   },
   "outputs": [
    {
     "name": "stdout",
     "output_type": "stream",
     "text": [
      "287\r\n"
     ]
    }
   ],
   "source": [
    "Get-TotalFact"
   ]
  },
  {
   "cell_type": "markdown",
   "metadata": {},
   "source": [
    "You can use the `Get-Fact` command to retrieve a fact by its id, and the `Get-Facts` command to retrieve all facts in the repository. The `Get-Facts` command takes a single parameter, the number of facts to retrieve. If you do not specify a number, the limit is set to 1024:"
   ]
  },
  {
   "cell_type": "code",
   "execution_count": 14,
   "metadata": {
    "dotnet_interactive": {
     "language": "pwsh"
    },
    "polyglot_notebook": {
     "kernelName": "pwsh"
    },
    "vscode": {
     "languageId": "polyglot-notebook"
    }
   },
   "outputs": [
    {
     "name": "stdout",
     "output_type": "stream",
     "text": [
      "\n",
      "\u001b[32;1mid         : \u001b[0m045733aa-d350-4b0e-b081-2e4f87ccbf03\n",
      "\u001b[32;1mdistance   : \u001b[0m\n",
      "\u001b[32;1mfactType   : \u001b[0mfaq\n",
      "\u001b[32;1mcategory   : \u001b[0mmovie\n",
      "\u001b[32;1mtags       : \u001b[0m\n",
      "\u001b[32;1mtitle      : \u001b[0mNot counting the special achievement award won for the movie’s sound, how many \n",
      "             competitive Oscars did Star Wars Episode IV (A New Hope) win at the 50th Academy \n",
      "             Awards from its ten nominations?\n",
      "\u001b[32;1mcontent    : \u001b[0mSix\n",
      "\u001b[32;1mcitation   : \u001b[0m\n",
      "\u001b[32;1mreference  : \u001b[0m\n",
      "\u001b[32;1mexpiration : \u001b[0m\n",
      "\n",
      "\u001b[32;1mid         : \u001b[0m0505d424-46e9-439c-a80f-1d25e8ae4e13\n",
      "\u001b[32;1mdistance   : \u001b[0m\n",
      "\u001b[32;1mfactType   : \u001b[0mfaq\n",
      "\u001b[32;1mcategory   : \u001b[0mmovie\n",
      "\u001b[32;1mtags       : \u001b[0m\n",
      "\u001b[32;1mtitle      : \u001b[0mWhat is the name of the carnivorous creature from Tatooine that C-3PO is talking \n",
      "             about when he says \"In its belly, you will find a new definition of pain and \n",
      "             suffering, as you are slowly digested over a thousand years?\"\n",
      "\u001b[32;1mcontent    : \u001b[0mSarlacc\n",
      "\u001b[32;1mcitation   : \u001b[0m\n",
      "\u001b[32;1mreference  : \u001b[0m\n",
      "\u001b[32;1mexpiration : \u001b[0m\n",
      "\n",
      "\u001b[32;1mid         : \u001b[0m05f4535d-bfef-4942-a207-5e8ed9c3b893\n",
      "\u001b[32;1mdistance   : \u001b[0m\n",
      "\u001b[32;1mfactType   : \u001b[0mfaq\n",
      "\u001b[32;1mcategory   : \u001b[0mmovie\n",
      "\u001b[32;1mtags       : \u001b[0m\n",
      "\u001b[32;1mtitle      : \u001b[0mWhat is the four-letter title of Jordan Peele's latest movie, which was released on \n",
      "             July 22, 2022 and follows eerie happenings at a California ranch?\n",
      "\u001b[32;1mcontent    : \u001b[0mNope\n",
      "\u001b[32;1mcitation   : \u001b[0m\n",
      "\u001b[32;1mreference  : \u001b[0m\n",
      "\u001b[32;1mexpiration : \u001b[0m\n",
      "\n",
      "\u001b[32;1mid         : \u001b[0m06b4f94b-c58c-48a7-8850-91b5b8b1b2b0\n",
      "\u001b[32;1mdistance   : \u001b[0m\n",
      "\u001b[32;1mfactType   : \u001b[0mfaq\n",
      "\u001b[32;1mcategory   : \u001b[0mmovie\n",
      "\u001b[32;1mtags       : \u001b[0m\n",
      "\u001b[32;1mtitle      : \u001b[0mIn 2002, which movie became the first to win the 'Best Animated Feature' award at the \n",
      "             Oscars? In the broadcast of the event, this movie's main characters were shown \n",
      "             attending the ceremony despite not being human- or real.\n",
      "\u001b[32;1mcontent    : \u001b[0mShrek\n",
      "\u001b[32;1mcitation   : \u001b[0m\n",
      "\u001b[32;1mreference  : \u001b[0m\n",
      "\u001b[32;1mexpiration : \u001b[0m\n",
      "\n",
      "\u001b[32;1mid         : \u001b[0m077128ec-5be1-46bf-997a-810c934027ff\n",
      "\u001b[32;1mdistance   : \u001b[0m\n",
      "\u001b[32;1mfactType   : \u001b[0mfaq\n",
      "\u001b[32;1mcategory   : \u001b[0mmovie\n",
      "\u001b[32;1mtags       : \u001b[0m\n",
      "\u001b[32;1mtitle      : \u001b[0mHenry Jones Senior, a character in a 1989 action-adventure film who accompanies his \n",
      "             son on a quest to find the Holy Grail, was played by which \"Untouchable\" \n",
      "             Oscar-winning actor?\n",
      "\u001b[32;1mcontent    : \u001b[0mSean Connery (in Indiana Jones and the Last Crusade)\n",
      "\u001b[32;1mcitation   : \u001b[0m\n",
      "\u001b[32;1mreference  : \u001b[0m\n",
      "\u001b[32;1mexpiration : \u001b[0m\n",
      "\n",
      "\n"
     ]
    }
   ],
   "source": [
    "Get-Facts -Limit 5"
   ]
  },
  {
   "cell_type": "markdown",
   "metadata": {},
   "source": [
    "If you are running in a windows terminal you can use the `Out-GridView` command to display the facts in a separate window:\n",
    "\n",
    "    Get-Facts | Out-GridView"
   ]
  },
  {
   "cell_type": "markdown",
   "metadata": {},
   "source": [
    "_Oraculum_ uses _Weaviate_ ability to order facts by the embedding of the query (closer vectors are more relevant *even if the query is expressed in a different language than the one of the facts*). The Find-RelevantFacts command is used to see the distance between a query and the facts in the repository:"
   ]
  },
  {
   "cell_type": "code",
   "execution_count": 5,
   "metadata": {
    "dotnet_interactive": {
     "language": "pwsh"
    },
    "polyglot_notebook": {
     "kernelName": "pwsh"
    },
    "vscode": {
     "languageId": "polyglot-notebook"
    }
   },
   "outputs": [
    {
     "name": "stdout",
     "output_type": "stream",
     "text": [
      "\n",
      "\u001b[32;1mdistance title\u001b[0m\n",
      "\u001b[32;1m-------- -----                                                                                     \u001b[0m\n",
      "   0.142 What is the name of the carnivorous creature from Tatooine that C-3PO is talking about wh…\n",
      "   0.201 In the affectionate Star Wars parody, “Space Balls,” the film renames the slimy crime lor…\n",
      "   0.202 Jabba The Hut’s pet/sidekick in \"Return Of The Jedi\", a noisy little rodent, is named Sal…\n",
      "   0.209 George Lucas is on record saying that its shape was inspired by a hamburger, how is the l…\n",
      "   0.211 What is the name of the large omnivorous cephalopods from the planet Vodran, having seven…\n",
      "\n"
     ]
    }
   ],
   "source": [
    "Find-RelevantFacts -Query \"What do you know about Sarlacc?\" -Limit 5 | select distance, title, content"
   ]
  },
  {
   "cell_type": "markdown",
   "metadata": {},
   "source": [
    "## Starting a Sibylla session\n",
    "\n",
    "You can easily test your Sibylla session by using the `New-SibyllaSession` command. This command takes a single parameter, the configuration of the session. The command will interactively ask for prompts and will display answers until `#quit` will not be entered (again pay attention to the top of the Visual Studio Code window for the input box):"
   ]
  },
  {
   "cell_type": "code",
   "execution_count": 6,
   "metadata": {
    "dotnet_interactive": {
     "language": "pwsh"
    },
    "polyglot_notebook": {
     "kernelName": "pwsh"
    },
    "vscode": {
     "languageId": "polyglot-notebook"
    }
   },
   "outputs": [
    {
     "name": "stdout",
     "output_type": "stream",
     "text": [
      "\u001b[93;40mAssistant: Hello from your personal movie assistant. I know curiosities about 287 movies, try me!\u001b[0m\n",
      "You: \u001b[93;40mAssistant: \u001b[0m\u001b[93;40mOne\u001b[0m\u001b[93;40m carniv\u001b[0m\u001b[93;40morous\u001b[0m\u001b[93;40m creature\u001b[0m\u001b[93;40m from\u001b[0m\u001b[93;40m a\u001b[0m\u001b[93;40m movie\u001b[0m\u001b[93;40m is\u001b[0m\u001b[93;40m the\u001b[0m\u001b[93;40m Sar\u001b[0m\u001b[93;40ml\u001b[0m\u001b[93;40macc\u001b[0m\u001b[93;40m.\u001b[0m\u001b[93;40m It\u001b[0m\u001b[93;40m is\u001b[0m\u001b[93;40m a\u001b[0m\u001b[93;40m creature\u001b[0m\u001b[93;40m from\u001b[0m\u001b[93;40m Tat\u001b[0m\u001b[93;40moo\u001b[0m\u001b[93;40mine\u001b[0m\u001b[93;40m mentioned\u001b[0m\u001b[93;40m in\u001b[0m\u001b[93;40m Star\u001b[0m\u001b[93;40m Wars\u001b[0m\u001b[93;40m,\u001b[0m\u001b[93;40m and\u001b[0m\u001b[93;40m C\u001b[0m\u001b[93;40m-\u001b[0m\u001b[93;40m3\u001b[0m\u001b[93;40mPO\u001b[0m\u001b[93;40m describes\u001b[0m\u001b[93;40m it\u001b[0m\u001b[93;40m as\u001b[0m\u001b[93;40m a\u001b[0m\u001b[93;40m creature\u001b[0m\u001b[93;40m that\u001b[0m\u001b[93;40m slowly\u001b[0m\u001b[93;40m dig\u001b[0m\u001b[93;40mests\u001b[0m\u001b[93;40m its\u001b[0m\u001b[93;40m victims\u001b[0m\u001b[93;40m over\u001b[0m\u001b[93;40m a\u001b[0m\u001b[93;40m thousand\u001b[0m\u001b[93;40m years\u001b[0m [\u001b[93;40msource\u001b[0m\u001b[93;40m:\u001b[0m\u001b[93;40m Star\u001b[0m\u001b[93;40m Wars\u001b[0m\u001b[93;40m:\u001b[0m\u001b[93;40m Episode\u001b[0m\u001b[93;40m VI\u001b[0m\u001b[93;40m -\u001b[0m\u001b[93;40m Return\u001b[0m\u001b[93;40m of\u001b[0m\u001b[93;40m the\u001b[0m\u001b[93;40m Jedi\u001b[0m\u001b[93;40m].\u001b[0m\n",
      "You: "
     ]
    }
   ],
   "source": [
    "New-SibyllaSession -ConfigFile .\\sibylla.conf"
   ]
  }
 ],
 "metadata": {
  "language_info": {
   "name": "csharp"
  },
  "orig_nbformat": 4
 },
 "nbformat": 4,
 "nbformat_minor": 2
}
