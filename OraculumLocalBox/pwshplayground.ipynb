{
 "cells": [
  {
   "cell_type": "markdown",
   "metadata": {},
   "source": [
    "# OraculumLocalBox for _pwsh_\n",
    "\n",
    "There are two way to setup and experiment with a local installation of Oraculum and Sibylla. This interactive notebook is designed to explain how to use PowerShell to install and manage Oraculum and Sibylla on a local machine.\n",
    "\n",
    "You can run these commands interactively in a PowerShell terminal without need for this notebook. However, this notebook is designed to be a step-by-step guide to setting up a local installation of Oraculum and Sibylla.\n",
    "\n",
    "You need to install _Docker_ on your system and WSL2 if you are on Windows. You can find instructions for installing Docker on your system [here](https://docs.docker.com/get-docker/). You can find instructions for installing WSL2 on Windows [here](https://docs.microsoft.com/en-us/windows/wsl/install-win10).\n",
    "\n",
    "Depending on whether you are in *Windows* or *macOS*, the relative file reference changes appropriately, for example: ```./weaviate.secret.yml``` becomes ```.\\weaviate.secret.yml```\n",
    "\n",
    "\n",
    "## Keys\n",
    "\n",
    "In this notebook we reference _oraculum.secret.conf_ and _weaviate.secret.yml_. Those are copies of _oraculum.conf_ and _weaviate.yml_ where you should indicate you OpenAI org id and key. You can get those from the [OpenAI dashboard](https://platform.openai.com/account/api-keys).\n",
    "\n",
    "## First run\n",
    "\n",
    "The initial deployment of _Oraculum_ requires the schema initialization first, then the Facts data structure can be populated. Follow the steps (in some cases a timeout may require re-evaluate the cell, or even restarting the kernels if stuck in evaluation):"
   ]
  },
  {
   "cell_type": "code",
   "execution_count": 1,
   "metadata": {
    "dotnet_interactive": {
     "language": "pwsh"
    },
    "polyglot_notebook": {
     "kernelName": "pwsh"
    },
    "vscode": {
     "languageId": "polyglot-notebook"
    }
   },
   "outputs": [
    {
     "name": "stdout",
     "output_type": "stream",
     "text": [
      "\u001b[31;1m Container weaviate  Running\u001b[0m\r\n"
     ]
    }
   ],
   "source": [
    "# Start the _Weaviate_\n",
    "docker-compose -f ./weaviate.secret.yml up -d"
   ]
  },
  {
   "cell_type": "markdown",
   "metadata": {},
   "source": [
    "You also need to install _Oraculum_ module from PowerShell Gallery. You can do that by running the following command in a PowerShell terminal:"
   ]
  },
  {
   "cell_type": "code",
   "execution_count": 2,
   "metadata": {
    "dotnet_interactive": {
     "language": "pwsh"
    },
    "polyglot_notebook": {
     "kernelName": "pwsh"
    },
    "vscode": {
     "languageId": "polyglot-notebook"
    }
   },
   "outputs": [
    {
     "name": "stdout",
     "output_type": "stream",
     "text": [
      "\n",
      "\u001b[95mUntrusted repository\u001b[0m\n",
      "You are installing the modules from an untrusted repository. If you trust this repository, change its InstallationPolicy value by running the Set-PSRepository cmdlet. Are you sure you want to install the modules from 'PSGallery'?\n",
      "[Y] Yes  [A] Yes to All  [N] No  [L] No to All  [S] Suspend  [?] Help(default is 'N')"
     ]
    }
   ],
   "source": [
    "Install-Module Oraculum"
   ]
  },
  {
   "cell_type": "code",
   "execution_count": 13,
   "metadata": {
    "dotnet_interactive": {
     "language": "pwsh"
    },
    "polyglot_notebook": {
     "kernelName": "pwsh"
    },
    "vscode": {
     "languageId": "polyglot-notebook"
    }
   },
   "outputs": [
    {
     "name": "stdout",
     "output_type": "stream",
     "text": [
      "\n",
      "\u001b[32;1mConfiguration         \u001b[0m\u001b[32;1m IsConnected\u001b[0m\n",
      "\u001b[32;1m-------------         \u001b[0m \u001b[32;1m-----------\u001b[0m\n",
      "Oraculum.Configuration        True\n",
      "\n"
     ]
    }
   ],
   "source": [
    "Connect-Oraculum -ConfigFile .\\oraculum.secret.conf"
   ]
  },
  {
   "cell_type": "markdown",
   "metadata": {},
   "source": [
    "To initialize or reset the schema you use the `Reset-Schema` command. Notice that you will be prompted for entering an OTP to avoind unwanted exectution. Inside Visual Studio Code pay attention to the top of the window where an input box will be shown:"
   ]
  },
  {
   "cell_type": "code",
   "execution_count": 3,
   "metadata": {
    "dotnet_interactive": {
     "language": "pwsh"
    },
    "polyglot_notebook": {
     "kernelName": "pwsh"
    },
    "vscode": {
     "languageId": "polyglot-notebook"
    }
   },
   "outputs": [
    {
     "name": "stdout",
     "output_type": "stream",
     "text": [
      "\n",
      "\u001b[95mSchema reset\u001b[0m\n",
      "To reset the schema type in the code 984586\n",
      "True\n"
     ]
    }
   ],
   "source": [
    "Reset-Schema"
   ]
  },
  {
   "cell_type": "markdown",
   "metadata": {},
   "source": [
    "Now can we import Oraculum module and connect with the previously filled secrets"
   ]
  },
  {
   "cell_type": "code",
   "execution_count": 4,
   "metadata": {
    "dotnet_interactive": {
     "language": "pwsh"
    },
    "polyglot_notebook": {
     "kernelName": "pwsh"
    },
    "vscode": {
     "languageId": "polyglot-notebook"
    }
   },
   "outputs": [
    {
     "name": "stdout",
     "output_type": "stream",
     "text": [
      "\n",
      "\u001b[32;1mConfiguration         \u001b[0m\u001b[32;1m IsConnected\u001b[0m\n",
      "\u001b[32;1m-------------         \u001b[0m \u001b[32;1m-----------\u001b[0m\n",
      "Oraculum.Configuration        True\n",
      "\n"
     ]
    }
   ],
   "source": [
    "Import-Module Oraculum\n",
    "\n",
    "Connect-Oraculum -ConfigFile ./oraculum.secret.conf"
   ]
  },
  {
   "cell_type": "markdown",
   "metadata": {},
   "source": [
    "Now you can check that the fact class is empty:"
   ]
  },
  {
   "cell_type": "code",
   "execution_count": 5,
   "metadata": {
    "dotnet_interactive": {
     "language": "pwsh"
    },
    "polyglot_notebook": {
     "kernelName": "pwsh"
    },
    "vscode": {
     "languageId": "polyglot-notebook"
    }
   },
   "outputs": [
    {
     "name": "stdout",
     "output_type": "stream",
     "text": [
      "0\r\n"
     ]
    }
   ],
   "source": [
    "Get-TotalFact"
   ]
  },
  {
   "cell_type": "markdown",
   "metadata": {},
   "source": [
    "## Manage facts repository in _Oraculum_\n",
    "\n",
    "Now that you have the system up and running you can start adding facts to the repository. You can do that by using the `Add-Fact` command. The command takes a single parameter, the fact to be added.\n",
    "\n",
    "Remember to import the module and connect to _Oraculum_ first:"
   ]
  },
  {
   "cell_type": "code",
   "execution_count": 6,
   "metadata": {
    "dotnet_interactive": {
     "language": "pwsh"
    },
    "polyglot_notebook": {
     "kernelName": "pwsh"
    },
    "vscode": {
     "languageId": "polyglot-notebook"
    }
   },
   "outputs": [
    {
     "name": "stdout",
     "output_type": "stream",
     "text": [
      "\n",
      "\u001b[32;1mConfiguration         \u001b[0m\u001b[32;1m IsConnected\u001b[0m\n",
      "\u001b[32;1m-------------         \u001b[0m \u001b[32;1m-----------\u001b[0m\n",
      "Oraculum.Configuration        True\n",
      "\n"
     ]
    }
   ],
   "source": [
    "Import-Module Oraculum\n",
    "Connect-Oraculum -ConfigFile ./oraculum.secret.conf"
   ]
  },
  {
   "cell_type": "markdown",
   "metadata": {},
   "source": [
    "\n",
    "We first load a set of FAQs from a JSON file:"
   ]
  },
  {
   "cell_type": "code",
   "execution_count": 7,
   "metadata": {
    "dotnet_interactive": {
     "language": "pwsh"
    },
    "polyglot_notebook": {
     "kernelName": "pwsh"
    },
    "vscode": {
     "languageId": "polyglot-notebook"
    }
   },
   "outputs": [],
   "source": [
    "$json = Get-Content ./qamoviedb.json | ConvertFrom-Json\n",
    "$n = 1\n",
    "$json |% { Add-Fact -Category movie -FactType faq -Title $_.q -Content $_.a -Citation (\"FAQ#\" + $n++) }"
   ]
  },
  {
   "cell_type": "markdown",
   "metadata": {},
   "source": [
    "Note that we have added facts individually, this may take a while. The command `Add-Facts` would have been much faster but we should have created an array of `Fact` objects first. For small loads it is easier to add facts individually.\n",
    "\n",
    "Now we can check that the facts have been added:"
   ]
  },
  {
   "cell_type": "code",
   "execution_count": 8,
   "metadata": {
    "dotnet_interactive": {
     "language": "pwsh"
    },
    "polyglot_notebook": {
     "kernelName": "pwsh"
    },
    "vscode": {
     "languageId": "polyglot-notebook"
    }
   },
   "outputs": [
    {
     "name": "stdout",
     "output_type": "stream",
     "text": [
      "287\r\n"
     ]
    }
   ],
   "source": [
    "Get-TotalFact"
   ]
  },
  {
   "cell_type": "markdown",
   "metadata": {},
   "source": [
    "You can use the `Get-Fact` command to retrieve a fact by its id, and the `Get-Facts` command to retrieve all facts in the repository. The `Get-Facts` command takes a single parameter, the number of facts to retrieve. If you do not specify a number, the limit is set to 1024:"
   ]
  },
  {
   "cell_type": "code",
   "execution_count": 9,
   "metadata": {
    "dotnet_interactive": {
     "language": "pwsh"
    },
    "polyglot_notebook": {
     "kernelName": "pwsh"
    },
    "vscode": {
     "languageId": "polyglot-notebook"
    }
   },
   "outputs": [
    {
     "name": "stdout",
     "output_type": "stream",
     "text": [
      "\n",
      "\u001b[32;1mid               : \u001b[0m0029356a-055b-4105-83a2-51fb475f1408\n",
      "\u001b[32;1mdistance         : \u001b[0m\n",
      "\u001b[32;1mfactType         : \u001b[0mfaq\n",
      "\u001b[32;1mcategory         : \u001b[0mmovie\n",
      "\u001b[32;1mtags             : \u001b[0m\n",
      "\u001b[32;1mtitle            : \u001b[0mThe annual \"awards\" given out around the same time as the Oscars that “honor” \n",
      "                   the best of the worst in film, acting, and directing celebrated their 40th \n",
      "                   anniversary in 2020. What is the name of these \"awards?\"\n",
      "\u001b[32;1mcontent          : \u001b[0mThe Golden Raspberries (Razzies)\n",
      "\u001b[32;1mcitation         : \u001b[0mFAQ#97\n",
      "\u001b[32;1mreference        : \u001b[0m\n",
      "\u001b[32;1mexpiration       : \u001b[0m\n",
      "\u001b[32;1mlocation         : \u001b[0m\n",
      "\u001b[32;1mlocationDistance : \u001b[0m\n",
      "\u001b[32;1mlocationName     : \u001b[0m\n",
      "\u001b[32;1meditPrincipals   : \u001b[0m\n",
      "\u001b[32;1mvalidFrom        : \u001b[0m\n",
      "\u001b[32;1mvalidTo          : \u001b[0m\n",
      "\u001b[32;1mfactAdded        : \u001b[0m12/20/2023 1:24:41 PM\n",
      "\n",
      "\u001b[32;1mid               : \u001b[0m0087916e-febd-4624-a7ec-8abb921ff443\n",
      "\u001b[32;1mdistance         : \u001b[0m\n",
      "\u001b[32;1mfactType         : \u001b[0mfaq\n",
      "\u001b[32;1mcategory         : \u001b[0mmovie\n",
      "\u001b[32;1mtags             : \u001b[0m\n",
      "\u001b[32;1mtitle            : \u001b[0mThough she gave it to Obi-Wan shortly before she died, Padmé was buried with a \n",
      "                   good luck charm that had been made by Anakin. It was made from japor ivory \n",
      "                   wood, a type of wood from what planet?\n",
      "\u001b[32;1mcontent          : \u001b[0mTatooine\n",
      "\u001b[32;1mcitation         : \u001b[0mFAQ#271\n",
      "\u001b[32;1mreference        : \u001b[0m\n",
      "\u001b[32;1mexpiration       : \u001b[0m\n",
      "\u001b[32;1mlocation         : \u001b[0m\n",
      "\u001b[32;1mlocationDistance : \u001b[0m\n",
      "\u001b[32;1mlocationName     : \u001b[0m\n",
      "\u001b[32;1meditPrincipals   : \u001b[0m\n",
      "\u001b[32;1mvalidFrom        : \u001b[0m\n",
      "\u001b[32;1mvalidTo          : \u001b[0m\n",
      "\u001b[32;1mfactAdded        : \u001b[0m12/20/2023 1:25:54 PM\n",
      "\n",
      "\u001b[32;1mid               : \u001b[0m00e09a80-534e-4542-972f-c18cd1f80bb8\n",
      "\u001b[32;1mdistance         : \u001b[0m\n",
      "\u001b[32;1mfactType         : \u001b[0mfaq\n",
      "\u001b[32;1mcategory         : \u001b[0mmovie\n",
      "\u001b[32;1mtags             : \u001b[0m\n",
      "\u001b[32;1mtitle            : \u001b[0mWhat character is responsible for the death of Jabba the Hutt in Return of the \n",
      "                   Jedi?\n",
      "\u001b[32;1mcontent          : \u001b[0mLeia\n",
      "\u001b[32;1mcitation         : \u001b[0mFAQ#223\n",
      "\u001b[32;1mreference        : \u001b[0m\n",
      "\u001b[32;1mexpiration       : \u001b[0m\n",
      "\u001b[32;1mlocation         : \u001b[0m\n",
      "\u001b[32;1mlocationDistance : \u001b[0m\n",
      "\u001b[32;1mlocationName     : \u001b[0m\n",
      "\u001b[32;1meditPrincipals   : \u001b[0m\n",
      "\u001b[32;1mvalidFrom        : \u001b[0m\n",
      "\u001b[32;1mvalidTo          : \u001b[0m\n",
      "\u001b[32;1mfactAdded        : \u001b[0m12/20/2023 1:25:32 PM\n",
      "\n",
      "\u001b[32;1mid               : \u001b[0m013bb0d2-5220-4f65-93de-b533ae874cb0\n",
      "\u001b[32;1mdistance         : \u001b[0m\n",
      "\u001b[32;1mfactType         : \u001b[0mfaq\n",
      "\u001b[32;1mcategory         : \u001b[0mmovie\n",
      "\u001b[32;1mtags             : \u001b[0m\n",
      "\u001b[32;1mtitle            : \u001b[0mPolitical activist and documentary filmmaker Michael Moore is from what \n",
      "                   now-infamous Michigan city?\n",
      "\u001b[32;1mcontent          : \u001b[0mFlint\n",
      "\u001b[32;1mcitation         : \u001b[0mFAQ#56\n",
      "\u001b[32;1mreference        : \u001b[0m\n",
      "\u001b[32;1mexpiration       : \u001b[0m\n",
      "\u001b[32;1mlocation         : \u001b[0m\n",
      "\u001b[32;1mlocationDistance : \u001b[0m\n",
      "\u001b[32;1mlocationName     : \u001b[0m\n",
      "\u001b[32;1meditPrincipals   : \u001b[0m\n",
      "\u001b[32;1mvalidFrom        : \u001b[0m\n",
      "\u001b[32;1mvalidTo          : \u001b[0m\n",
      "\u001b[32;1mfactAdded        : \u001b[0m12/20/2023 1:24:23 PM\n",
      "\n",
      "\u001b[32;1mid               : \u001b[0m01981dc5-e567-4308-bb12-58a23bcda269\n",
      "\u001b[32;1mdistance         : \u001b[0m\n",
      "\u001b[32;1mfactType         : \u001b[0mfaq\n",
      "\u001b[32;1mcategory         : \u001b[0mmovie\n",
      "\u001b[32;1mtags             : \u001b[0m\n",
      "\u001b[32;1mtitle            : \u001b[0mWhat film won the Academy Award for Best Original Score in 1983? (Hint: the \n",
      "                   film actually came out in 1982.)\n",
      "\u001b[32;1mcontent          : \u001b[0mE.T. the Extra-Terrestrial\n",
      "\u001b[32;1mcitation         : \u001b[0mFAQ#275\n",
      "\u001b[32;1mreference        : \u001b[0m\n",
      "\u001b[32;1mexpiration       : \u001b[0m\n",
      "\u001b[32;1mlocation         : \u001b[0m\n",
      "\u001b[32;1mlocationDistance : \u001b[0m\n",
      "\u001b[32;1mlocationName     : \u001b[0m\n",
      "\u001b[32;1meditPrincipals   : \u001b[0m\n",
      "\u001b[32;1mvalidFrom        : \u001b[0m\n",
      "\u001b[32;1mvalidTo          : \u001b[0m\n",
      "\u001b[32;1mfactAdded        : \u001b[0m12/20/2023 1:25:55 PM\n",
      "\n"
     ]
    }
   ],
   "source": [
    "Get-Facts -Limit 5"
   ]
  },
  {
   "cell_type": "markdown",
   "metadata": {},
   "source": [
    "If you are running in a windows terminal you can use the `Out-GridView` command to display the facts in a separate window:\n",
    "\n",
    "    Get-Facts | Out-GridView"
   ]
  },
  {
   "cell_type": "markdown",
   "metadata": {},
   "source": [
    "_Oraculum_ uses _Weaviate_ ability to order facts by the embedding of the query (closer vectors are more relevant *even if the query is expressed in a different language than the one of the facts*). The Find-RelevantFacts command is used to see the distance between a query and the facts in the repository:"
   ]
  },
  {
   "cell_type": "code",
   "execution_count": 10,
   "metadata": {
    "dotnet_interactive": {
     "language": "pwsh"
    },
    "polyglot_notebook": {
     "kernelName": "pwsh"
    },
    "vscode": {
     "languageId": "polyglot-notebook"
    }
   },
   "outputs": [
    {
     "name": "stdout",
     "output_type": "stream",
     "text": [
      "\n",
      "\u001b[32;1mdistance\u001b[0m\u001b[32;1m title\u001b[0m\n",
      "\u001b[32;1m--------\u001b[0m \u001b[32;1m-----                                                                                     \u001b[0m\n",
      "   0.144 What is the name of the carnivorous creature from Tatooine that C-3PO is talking about wh…\n",
      "   0.199 In the affectionate Star Wars parody, “Space Balls,” the film renames the slimy crime lor…\n",
      "   0.204 Jabba The Hut’s pet/sidekick in \"Return Of The Jedi\", a noisy little rodent, is named Sal…\n",
      "   0.211 George Lucas is on record saying that its shape was inspired by a hamburger, how is the l…\n",
      "   0.213 What hyperspace route passing by the Maw nebula did Han Solo traverse in the Millenium Fa…\n",
      "\n"
     ]
    }
   ],
   "source": [
    "Find-RelevantFacts -Query \"What do you know about Sarlacc?\" -Limit 5 | select distance, title, content"
   ]
  },
  {
   "cell_type": "markdown",
   "metadata": {},
   "source": [
    "## Starting a Sibylla session\n",
    "\n",
    "You can easily test your Sibylla session by using the `New-SibyllaSession` command. This command takes a single parameter, the configuration of the session. The command will interactively ask for prompts and will display answers until `#quit` will not be entered (again pay attention to the top of the Visual Studio Code window for the input box):"
   ]
  },
  {
   "cell_type": "code",
   "execution_count": 14,
   "metadata": {
    "dotnet_interactive": {
     "language": "pwsh"
    },
    "polyglot_notebook": {
     "kernelName": "pwsh"
    },
    "vscode": {
     "languageId": "polyglot-notebook"
    }
   },
   "outputs": [
    {
     "name": "stdout",
     "output_type": "stream",
     "text": [
      "\u001b[93;40mAssistant: Hello from your personal movie assistant. I know curiosities about 287 movies, try me!\u001b[0m\n",
      "You: \u001b[93;40mAssistant: \u001b[0m\u001b[93;40mDid\u001b[0m\u001b[93;40m you\u001b[0m\u001b[93;40m know\u001b[0m\u001b[93;40m that\u001b[0m\u001b[93;40m the\u001b[0m\u001b[93;40m \u001b[0m\u001b[93;40m201\u001b[0m\u001b[93;40m5\u001b[0m\u001b[93;40m Star\u001b[0m\u001b[93;40m Wars\u001b[0m\u001b[93;40m movie\u001b[0m\u001b[93;40m directed\u001b[0m\u001b[93;40m by\u001b[0m\u001b[93;40m J\u001b[0m\u001b[93;40m.J\u001b[0m\u001b[93;40m.\u001b[0m\u001b[93;40m Abrams\u001b[0m\u001b[93;40m,\u001b[0m\u001b[93;40m \"\u001b[0m\u001b[93;40mThe\u001b[0m\u001b[93;40m Force\u001b[0m\u001b[93;40m Aw\u001b[0m\u001b[93;40makens\u001b[0m\u001b[93;40m,\"\u001b[0m\u001b[93;40m was\u001b[0m\u001b[93;40m the\u001b[0m\u001b[93;40m first\u001b[0m\u001b[93;40m film\u001b[0m\u001b[93;40m in\u001b[0m\u001b[93;40m the\u001b[0m\u001b[93;40m franchise\u001b[0m\u001b[93;40m that\u001b[0m\u001b[93;40m didn\u001b[0m\u001b[93;40m't\u001b[0m\u001b[93;40m have\u001b[0m\u001b[93;40m a\u001b[0m\u001b[93;40m video\u001b[0m\u001b[93;40m game\u001b[0m\u001b[93;40m tie\u001b[0m\u001b[93;40m-in\u001b[0m\u001b[93;40m when\u001b[0m\u001b[93;40m it\u001b[0m\u001b[93;40m came\u001b[0m\u001b[93;40m out\u001b[0m\u001b[93;40m?\u001b[0m\u001b[93;40m However\u001b[0m\u001b[93;40m,\u001b[0m\u001b[93;40m it\u001b[0m\u001b[93;40m did\u001b[0m\u001b[93;40m eventually\u001b[0m\u001b[93;40m get\u001b[0m\u001b[93;40m a\u001b[0m\u001b[93;40m video\u001b[0m\u001b[93;40m game\u001b[0m\u001b[93;40m,\u001b[0m\u001b[93;40m but\u001b[0m\u001b[93;40m just\u001b[0m\u001b[93;40m the\u001b[0m\u001b[93;40m Lego\u001b[0m\u001b[93;40m version\u001b[0m\u001b[93;40m.\u001b[0m [\u001b[93;40mFAQ\u001b[0m\u001b[93;40m#\u001b[0m\u001b[93;40m204\u001b[0m\u001b[93;40m]\u001b[0m\n",
      "You: "
     ]
    }
   ],
   "source": [
    "New-SibyllaSession -ConfigFile ./sibylla.conf"
   ]
  }
 ],
 "metadata": {
  "language_info": {
   "name": "csharp"
  },
  "orig_nbformat": 4
 },
 "nbformat": 4,
 "nbformat_minor": 2
}
