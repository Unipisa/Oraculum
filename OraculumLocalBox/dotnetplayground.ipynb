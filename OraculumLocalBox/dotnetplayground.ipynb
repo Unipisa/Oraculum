{
 "cells": [
  {
   "cell_type": "markdown",
   "metadata": {},
   "source": [
    "# OraculumLocalBox setup\n",
    "\n",
    "There are two way to setup and experiment with a local installation of Oraculum and Sibylla. This interactive notebook is designed to play and experiment with the .NET API.\n",
    "\n",
    "## Prerequisites\n",
    "\n",
    "In order to deploy _Oraculum_ locally you need to install _Docker_ (on Windows using the WSL2).\n",
    "\n",
    "## Keys\n",
    "\n",
    "In this notebook we reference _oraculum.secret.conf_ and _weaviate.secret.yml_. Those are copies of _oraculum.conf_ and _weaviate.yml_ where you should indicate you OpenAI org id and key. You can get those from the [OpenAI dashboard](https://platform.openai.com/account/api-keys).\n",
    "\n",
    "## First run\n",
    "\n",
    "The initial deployment of _Oraculum_ requires the schema initialization first, then the Facts data structure can be populated. Follow the steps (in some cases a timeout may require re-evaluate the cell, or even restarting the kernels if stuck in evaluation):"
   ]
  },
  {
   "cell_type": "code",
   "execution_count": 10,
   "metadata": {
    "dotnet_interactive": {
     "language": "pwsh"
    },
    "polyglot_notebook": {
     "kernelName": "pwsh"
    }
   },
   "outputs": [
    {
     "name": "stdout",
     "output_type": "stream",
     "text": [
      "\u001b[31;1m Container weaviate  Starting\u001b[0m\n",
      "\u001b[31;1m Container weaviate  Started\u001b[0m\n"
     ]
    }
   ],
   "source": [
    "# Start the _Weaviate_\n",
    "docker-compose -f .\\weaviate.secret.yml up -d"
   ]
  },
  {
   "cell_type": "markdown",
   "metadata": {},
   "source": [
    "Check that Weaviate is up and running by pointing your browser to http://localhost:8080/v1/swagger and, in case you are prompted for credentials, access with empty credentials.\n",
    "\n",
    "### Schema initialization\n",
    "\n",
    "First you must reference the _Oraculum_ nuget package:"
   ]
  },
  {
   "cell_type": "code",
   "execution_count": 1,
   "metadata": {
    "dotnet_interactive": {
     "language": "csharp"
    },
    "polyglot_notebook": {
     "kernelName": "csharp"
    }
   },
   "outputs": [
    {
     "data": {
      "text/html": [
       "<div><div></div><div></div><div><strong>Installed Packages</strong><ul><li><span>Oraculum, 1.0.2</span></li></ul></div></div>"
      ]
     },
     "metadata": {},
     "output_type": "display_data"
    }
   ],
   "source": [
    "#r \"nuget:Oraculum\""
   ]
  },
  {
   "cell_type": "markdown",
   "metadata": {},
   "source": [
    "It is suggested to always test wether the schema has already been intialized (otherwise the data will be lost):"
   ]
  },
  {
   "cell_type": "code",
   "execution_count": 3,
   "metadata": {
    "dotnet_interactive": {
     "language": "csharp"
    },
    "polyglot_notebook": {
     "kernelName": "csharp"
    }
   },
   "outputs": [
    {
     "name": "stdout",
     "output_type": "stream",
     "text": [
      "Initializing KB\r\n"
     ]
    }
   ],
   "source": [
    "using Oraculum;\n",
    "\n",
    "var oraculumConf = Oraculum.Configuration.FromJson(System.IO.File.ReadAllText(\"oraculum.secret.conf\"));\n",
    "\n",
    "var oraculum = new Oraculum.Oraculum(oraculumConf);\n",
    "\n",
    "if (!await oraculum.IsKBInitialized()) {\n",
    "    Console.WriteLine(\"Initializing KB\");\n",
    "    await oraculum.Init();\n",
    "} else {\n",
    "    Console.WriteLine(\"KB already initialized\");\n",
    "}\n",
    "\n",
    "await oraculum.Connect();"
   ]
  },
  {
   "cell_type": "markdown",
   "metadata": {},
   "source": [
    "## Fact managment\n",
    "\n",
    "Oraculum API for managing facts is straightforward, you can get facts filtering by `catergory`, by `tags` and other attributes. The `FindRelevantFacts` method allows to query the facts database obtaining results ordered by vector distance of the embeddings.\n",
    "\n",
    "### Populate the facts collection\n",
    "\n",
    "_Weaviate_ supports bulk upload of data so it is preferable to add an array of facts instead of iterating and add individual facts. In any case is the `AddFact` method that is overloaded to support both scenarios.\n",
    "\n",
    "We populate the facts by reading Q&A from a JSON file (taken from [here](https://www.watercoolertrivia.com/trivia-questions/movie-trivia-questions)):"
   ]
  },
  {
   "cell_type": "code",
   "execution_count": 4,
   "metadata": {
    "dotnet_interactive": {
     "language": "csharp"
    },
    "polyglot_notebook": {
     "kernelName": "csharp"
    }
   },
   "outputs": [
    {
     "name": "stdout",
     "output_type": "stream",
     "text": [
      "Loading KB\n",
      "KB loaded (#287)\n"
     ]
    }
   ],
   "source": [
    "if (await oraculum.TotalFactsByCategory(\"movie\") == 0) {\n",
    "    Console.WriteLine(\"Loading KB\");\n",
    "    var jsonqa = System.Text.Json.JsonDocument.Parse(System.IO.File.ReadAllText(\"qamoviedb.json\"));\n",
    "    var i = 0;\n",
    "    var l = new List<Fact>();\n",
    "    foreach (var o in jsonqa.RootElement.EnumerateArray()) {\n",
    "        i++;\n",
    "        var q =o.GetProperty(\"q\").GetString();\n",
    "        var a =o.GetProperty(\"a\").GetString();\n",
    "        var f = new Fact() {\n",
    "            category = \"movie\",\n",
    "            citation = $\"FAQ #{i}\",\n",
    "            title = q,\n",
    "            content = a,\n",
    "            factType = \"faq\"\n",
    "        };\n",
    "        l.Add(f);\n",
    "    }\n",
    "    await oraculum.AddFact(l);\n",
    "    Console.WriteLine($\"KB loaded (#{await oraculum.TotalFacts()})\");\n",
    "} else {\n",
    "    Console.WriteLine($\"KB already loaded ({await oraculum.TotalFacts()} facts)\");\n",
    "}\n",
    "\n"
   ]
  },
  {
   "cell_type": "markdown",
   "metadata": {},
   "source": [
    "## Testing Sibylla\n",
    "\n",
    "The code for running Sibylla can be found in the `NewSibyllaSession.cs` cmdlet in the `OraculumCLI` project. The code is pretty straightforward and at its core is like this:\n",
    "\n",
    "    do\n",
    "    {\n",
    "        this.CommandRuntime.Host.UI.Write(\"You: \");\n",
    "        var user = this.CommandRuntime.Host.UI.ReadLine();\n",
    "        if (user == \"#quit\")\n",
    "            break;\n",
    "        this.CommandRuntime.Host.UI.Write(ConsoleColor.Yellow, ConsoleColor.Black, $\"Assistant: \");\n",
    "        var ena = sibylla.AnswerAsync(user);\n",
    "        var en = ena.GetAsyncEnumerator();\n",
    "        while(true)\n",
    "        {\n",
    "            var j = en.MoveNextAsync();\n",
    "            j.AsTask().Wait();\n",
    "            if (!j.Result)\n",
    "                break;\n",
    "            this.CommandRuntime.Host.UI.Write(ConsoleColor.Yellow, ConsoleColor.Black, $\"{en.Current}\");\n",
    "        }\n",
    "        this.CommandRuntime.Host.UI.WriteLine();\n",
    "    } while (true);\n",
    "\n",
    "The _Oraculum_ kernel for .NET interactive performs similarly and will be used in this notebook to test the assistant.\n",
    "\n",
    "The first step is to reference the _OraculumInteractive_ nuget package and load the _Oraculum_ kernel:"
   ]
  },
  {
   "cell_type": "code",
   "execution_count": 6,
   "metadata": {
    "dotnet_interactive": {
     "language": "csharp"
    },
    "polyglot_notebook": {
     "kernelName": "csharp"
    }
   },
   "outputs": [
    {
     "data": {
      "text/html": [
       "<div><div></div><div></div><div><strong>Installed Packages</strong><ul><li><span>OraculumInteractive, 1.0.0</span></li></ul></div></div>"
      ]
     },
     "metadata": {},
     "output_type": "display_data"
    }
   ],
   "source": [
    "#r \"nuget:OraculumInteractive\""
   ]
  },
  {
   "cell_type": "code",
   "execution_count": 7,
   "metadata": {
    "dotnet_interactive": {
     "language": "csharp"
    },
    "polyglot_notebook": {
     "kernelName": "csharp"
    }
   },
   "outputs": [
    {
     "data": {
      "text/plain": [
       "Oraculum kernel loaded"
      ]
     },
     "metadata": {},
     "output_type": "display_data"
    }
   ],
   "source": [
    "OraculumInteractive.OraculumKernelExtension.LoadOraculum(Microsoft.DotNet.Interactive.KernelInvocationContext.Current.HandlingKernel.RootKernel);"
   ]
  },
  {
   "cell_type": "markdown",
   "metadata": {},
   "source": [
    "Now we can create a Sibylla configuration. It is an important data structure because it defines the assistant behavior. In particular it states that the knowledge will be added in the XML format:"
   ]
  },
  {
   "cell_type": "code",
   "execution_count": 8,
   "metadata": {
    "dotnet_interactive": {
     "language": "csharp"
    },
    "polyglot_notebook": {
     "kernelName": "csharp"
    }
   },
   "outputs": [],
   "source": [
    "#!value --name SibyllaConfig \n",
    "{\"BaseSystemPrompt\":\"You are a passionate assistant with knowledge about movies and you will answer to users about movies curiosities. You answer only to questions about movies and curiosities, to other curiosities you shall answer \\\"I am authorized only to answer to questions about movies\\\". To answer you will only use ground truth and information about facts in XML that will follow instead of your knowledge. If you use information from an XML having a 'cit' attribute include the citation in square brakets in the output.\",\n",
    "\"BaseAssistantPrompt\":\"Hello from your personal movie assistant. I know curiosities about 287 movies, try me!\",\n",
    "\"MaxTokens\":1024,\n",
    "\"Model\":\"gpt-3.5-turbo\",\n",
    "\"Temperature\":0.1,\n",
    "\"TopP\":1,\n",
    "\"FrequencyPenalty\":0,\n",
    "\"PresencePenalty\":0,\n",
    "\"FactFilter\": null,\n",
    "\"CategoryFilter\": [\"movie\"],\n",
    "\"TagFilter\": null\n",
    "}"
   ]
  },
  {
   "cell_type": "markdown",
   "metadata": {},
   "source": [
    "Before testing Sibylla you need to connect the kernel to the Sibylla based on the `SibyllaConfig` configuration:"
   ]
  },
  {
   "cell_type": "code",
   "execution_count": 9,
   "metadata": {
    "dotnet_interactive": {
     "language": "csharp"
    },
    "polyglot_notebook": {
     "kernelName": "csharp"
    }
   },
   "outputs": [
    {
     "data": {
      "text/plain": [
       "Kernel added: #!SibyllaMovie"
      ]
     },
     "metadata": {},
     "output_type": "display_data"
    }
   ],
   "source": [
    "#!connect Oraculum --kernel-name SibyllaMovie --oraculum-config .\\oraculum.conf --sibylla-config-json @value:SibyllaConfig"
   ]
  },
  {
   "cell_type": "markdown",
   "metadata": {},
   "source": [
    "Once the kernel has been instatiated you can change the code cell type to SibyllaMovie and ask questions! The FAQ is used when cited as FAQ#_n_ where _n_ is the index of the question in the FAQ file."
   ]
  },
  {
   "cell_type": "code",
   "execution_count": 10,
   "metadata": {
    "dotnet_interactive": {
     "language": "SibyllaMovie"
    },
    "polyglot_notebook": {
     "kernelName": "SibyllaMovie"
    }
   },
   "outputs": [
    {
     "data": {
      "text/plain": [
       "I know a lot about Star Wars! It is a popular film franchise that began in 1977 with the release of \"Star Wars: Episode IV - A New Hope.\" The franchise was created by George Lucas and has since expanded to include multiple trilogies, spin-off films, TV series, books, and merchandise.\n",
       "\n",
       "One interesting fact is that Daisy Ridley made her first appearance as Rey in \"Star Wars: Episode VII - The Force Awakens\" [FAQ #39]. Another curiosity is that in \"Star Wars: Episode II - Attack of the Clones,\" Anakin Skywalker tells Padme Amidala that he doesn't like sand because \"it's coarse and rough and irritating, and it gets everywhere\" [FAQ #41].\n",
       "\n",
       "The Rebel Alliance in the Star Wars films uses a starfighter called the X-Wing Starfighter, which has four laser cannons and two proton torpedo launchers [FAQ #37]. Additionally, the 1998 disaster film \"Armageddon\" references Star Wars, with Ben Affleck's character declaring, \"I'm Han and you're Chewbacca\" [FAQ #201].\n",
       "\n",
       "Lastly, the 2018 Star Wars film \"Solo\" focuses on the early adventures of Chewbacca and the character who was portrayed by Harrison Ford in \"A New Hope,\" \"The Empire Strikes Back,\" and \"Return of the Jedi\" [FAQ #5]."
      ]
     },
     "metadata": {},
     "output_type": "display_data"
    }
   ],
   "source": [
    "What do you know about Star Wars?"
   ]
  },
  {
   "cell_type": "code",
   "execution_count": 11,
   "metadata": {
    "dotnet_interactive": {
     "language": "SibyllaMovie"
    },
    "polyglot_notebook": {
     "kernelName": "SibyllaMovie"
    }
   },
   "outputs": [
    {
     "data": {
      "text/plain": [
       "The first trilogy, also known as the original trilogy, is comprised of \"Star Wars: Episode IV - A New Hope\" (1977), \"Star Wars: Episode V - The Empire Strikes Back\" (1980), and \"Star Wars: Episode VI - Return of the Jedi\" (1983). Here are a few interesting facts about the original trilogy:\n",
       "\n",
       "1. The first Star Wars film, \"A New Hope,\" was initially released simply as \"Star Wars\" and became a massive success, leading to the creation of the entire franchise.\n",
       "\n",
       "2. \"The Empire Strikes Back\" is often regarded as one of the best sequels ever made and is known for its iconic twist involving the character of Darth Vader.\n",
       "\n",
       "3. The character of Yoda, the wise and powerful Jedi Master, made his first appearance in \"The Empire Strikes Back.\" Yoda's unique way of speaking, with his sentences often structured in an unconventional manner, has become one of his defining characteristics.\n",
       "\n",
       "4. \"Return of the Jedi\" features the climactic battle on the forest moon of Endor, where the Rebel Alliance takes on the forces of the Galactic Empire. This battle showcases the Ewoks, a species of small, furry creatures who aid the Rebels in their fight against the Empire.\n",
       "\n",
       "5. The original trilogy concluded the story of Luke Skywalker, Princess Leia, Han Solo, and Darth Vader, among others, and left a lasting impact on popular culture. It introduced audiences to a rich and expansive universe filled with memorable characters, epic battles, and themes of hope, redemption, and the struggle between good and evil.\n",
       "\n",
       "These are just a few highlights from the original trilogy, which laid the foundation for the Star Wars saga and continues to be beloved by fans around the world."
      ]
     },
     "metadata": {},
     "output_type": "display_data"
    }
   ],
   "source": [
    "Tell me something interesting about the first trilogy!"
   ]
  },
  {
   "cell_type": "code",
   "execution_count": 12,
   "metadata": {
    "dotnet_interactive": {
     "language": "SibyllaMovie"
    },
    "polyglot_notebook": {
     "kernelName": "SibyllaMovie"
    }
   },
   "outputs": [
    {
     "data": {
      "text/plain": [
       "Josh Brolin played President George W. Bush in the 2008 film \"W.\" [FAQ #17]"
      ]
     },
     "metadata": {},
     "output_type": "display_data"
    }
   ],
   "source": [
    "What actor played President George W. Bush in a 2008 film?"
   ]
  }
 ],
 "metadata": {
  "kernelspec": {
   "display_name": ".NET (C#)",
   "language": "C#",
   "name": ".net-csharp"
  },
  "language_info": {
   "name": "polyglot-notebook"
  },
  "orig_nbformat": 4,
  "polyglot_notebook": {
   "kernelInfo": {
    "defaultKernelName": "csharp",
    "items": [
     {
      "aliases": [],
      "name": "csharp"
     },
     {
      "aliases": [],
      "name": "SibyllaMovie"
     }
    ]
   }
  }
 },
 "nbformat": 4,
 "nbformat_minor": 2
}
