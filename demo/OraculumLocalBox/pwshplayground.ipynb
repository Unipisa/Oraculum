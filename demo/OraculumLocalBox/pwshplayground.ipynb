{
 "cells": [
  {
   "cell_type": "markdown",
   "metadata": {},
   "source": [
    "# OraculumLocalBox for _pwsh_\n",
    "\n",
    "There are two way to setup and experiment with a local installation of Oraculum and Sibylla. This interactive notebook is designed to explain how to use PowerShell to install and manage Oraculum and Sibylla on a local machine.\n",
    "\n",
    "You can run these commands interactively in a PowerShell terminal without need for this notebook. However, this notebook is designed to be a step-by-step guide to setting up a local installation of Oraculum and Sibylla.\n",
    "\n",
    "You need to install _Docker_ on your system and WSL2 if you are on Windows. You can find instructions for installing Docker on your system [here](https://docs.docker.com/get-docker/). You can find instructions for installing WSL2 on Windows [here](https://docs.microsoft.com/en-us/windows/wsl/install-win10).\n",
    "\n",
    "Depending on whether you are in *Windows* or *macOS*, the relative file reference changes appropriately, for example: ```./weaviate.secret.yml``` becomes ```.\\weaviate.secret.yml```\n",
    "\n",
    "\n",
    "## Keys\n",
    "\n",
    "In this notebook we reference _oraculum.secret.conf_ and _weaviate.secret.yml_. Those are copies of _oraculum.conf_ and _weaviate.yml_ where you should indicate you OpenAI org id and key. You can get those from the [OpenAI dashboard](https://platform.openai.com/account/api-keys).\n",
    "\n",
    "## First run\n",
    "\n",
    "The initial deployment of _Oraculum_ requires the schema initialization first, then the Facts data structure can be populated. Follow the steps (in some cases a timeout may require re-evaluate the cell, or even restarting the kernels if stuck in evaluation):"
   ]
  },
  {
   "cell_type": "code",
   "execution_count": 1,
   "metadata": {
    "dotnet_interactive": {
     "language": "pwsh"
    },
    "polyglot_notebook": {
     "kernelName": "pwsh"
    },
    "vscode": {
     "languageId": "polyglot-notebook"
    }
   },
   "outputs": [
    {
     "name": "stdout",
     "output_type": "stream",
     "text": [
      "\u001b[31;1m Container weaviate  Running\u001b[0m\r\n"
     ]
    }
   ],
   "source": [
    "# Start the _Weaviate_\n",
    "docker-compose -f ./weaviate.secret.yml up -d"
   ]
  },
  {
   "cell_type": "markdown",
   "metadata": {},
   "source": [
    "You also need to install _Oraculum_ module from PowerShell Gallery. You can do that by running the following command in a PowerShell terminal:"
   ]
  },
  {
   "cell_type": "code",
   "execution_count": 2,
   "metadata": {
    "dotnet_interactive": {
     "language": "pwsh"
    },
    "polyglot_notebook": {
     "kernelName": "pwsh"
    },
    "vscode": {
     "languageId": "polyglot-notebook"
    }
   },
   "outputs": [
    {
     "name": "stdout",
     "output_type": "stream",
     "text": [
      "\n",
      "\u001b[95mUntrusted repository\u001b[0m\n",
      "You are installing the modules from an untrusted repository. If you trust this repository, change its InstallationPolicy value by running the Set-PSRepository cmdlet. Are you sure you want to install the modules from 'PSGallery'?\n",
      "[Y] Yes  [A] Yes to All  [N] No  [L] No to All  [S] Suspend  [?] Help(default is 'N')"
     ]
    }
   ],
   "source": [
    "Install-Module Oraculum"
   ]
  },
  {
   "cell_type": "code",
   "execution_count": 1,
   "metadata": {
    "dotnet_interactive": {
     "language": "pwsh"
    },
    "polyglot_notebook": {
     "kernelName": "pwsh"
    },
    "vscode": {
     "languageId": "polyglot-notebook"
    }
   },
   "outputs": [
    {
     "name": "stdout",
     "output_type": "stream",
     "text": [
      "\n",
      "\u001b[32;1mConfiguration         \u001b[0m\u001b[32;1m Logger                                              \u001b[0m\u001b[32;1m IsConnected\u001b[0m\n",
      "\u001b[32;1m-------------         \u001b[0m \u001b[32;1m------                                              \u001b[0m \u001b[32;1m-----------\u001b[0m\n",
      "Oraculum.Configuration Microsoft.Extensions.Logging.Abstractions.NullLogger        True\n",
      "\n"
     ]
    }
   ],
   "source": [
    "Connect-Oraculum -ConfigFile .\\oraculum.secret.conf"
   ]
  },
  {
   "cell_type": "markdown",
   "metadata": {},
   "source": [
    "To initialize or reset the schema you use the `Reset-Schema` command. Notice that you will be prompted for entering an OTP to avoind unwanted exectution. Inside Visual Studio Code pay attention to the top of the window where an input box will be shown:"
   ]
  },
  {
   "cell_type": "code",
   "execution_count": 3,
   "metadata": {
    "dotnet_interactive": {
     "language": "pwsh"
    },
    "polyglot_notebook": {
     "kernelName": "pwsh"
    },
    "vscode": {
     "languageId": "polyglot-notebook"
    }
   },
   "outputs": [
    {
     "name": "stdout",
     "output_type": "stream",
     "text": [
      "\n",
      "\u001b[95mSchema reset\u001b[0m\n",
      "To reset the schema type in the code 984586\n",
      "True\n"
     ]
    }
   ],
   "source": [
    "Reset-Schema"
   ]
  },
  {
   "cell_type": "markdown",
   "metadata": {},
   "source": [
    "Now can we import Oraculum module and connect with the previously filled secrets"
   ]
  },
  {
   "cell_type": "code",
   "execution_count": 4,
   "metadata": {
    "dotnet_interactive": {
     "language": "pwsh"
    },
    "polyglot_notebook": {
     "kernelName": "pwsh"
    },
    "vscode": {
     "languageId": "polyglot-notebook"
    }
   },
   "outputs": [
    {
     "name": "stdout",
     "output_type": "stream",
     "text": [
      "\n",
      "\u001b[32;1mConfiguration         \u001b[0m\u001b[32;1m IsConnected\u001b[0m\n",
      "\u001b[32;1m-------------         \u001b[0m \u001b[32;1m-----------\u001b[0m\n",
      "Oraculum.Configuration        True\n",
      "\n"
     ]
    }
   ],
   "source": [
    "Import-Module Oraculum\n",
    "\n",
    "Connect-Oraculum -ConfigFile ./oraculum.secret.conf"
   ]
  },
  {
   "cell_type": "markdown",
   "metadata": {},
   "source": [
    "Now you can check that the fact class is empty:"
   ]
  },
  {
   "cell_type": "code",
   "execution_count": 2,
   "metadata": {
    "dotnet_interactive": {
     "language": "pwsh"
    },
    "polyglot_notebook": {
     "kernelName": "pwsh"
    },
    "vscode": {
     "languageId": "polyglot-notebook"
    }
   },
   "outputs": [
    {
     "name": "stdout",
     "output_type": "stream",
     "text": [
      "0\r\n"
     ]
    }
   ],
   "source": [
    "Get-TotalFact"
   ]
  },
  {
   "cell_type": "markdown",
   "metadata": {},
   "source": [
    "## Manage facts repository in _Oraculum_\n",
    "\n",
    "Now that you have the system up and running you can start adding facts to the repository. You can do that by using the `Add-Fact` command. The command takes a single parameter, the fact to be added.\n",
    "\n",
    "Remember to import the module and connect to _Oraculum_ first:"
   ]
  },
  {
   "cell_type": "code",
   "execution_count": 6,
   "metadata": {
    "dotnet_interactive": {
     "language": "pwsh"
    },
    "polyglot_notebook": {
     "kernelName": "pwsh"
    },
    "vscode": {
     "languageId": "polyglot-notebook"
    }
   },
   "outputs": [
    {
     "name": "stdout",
     "output_type": "stream",
     "text": [
      "\n",
      "\u001b[32;1mConfiguration         \u001b[0m\u001b[32;1m IsConnected\u001b[0m\n",
      "\u001b[32;1m-------------         \u001b[0m \u001b[32;1m-----------\u001b[0m\n",
      "Oraculum.Configuration        True\n",
      "\n"
     ]
    }
   ],
   "source": [
    "Import-Module Oraculum\n",
    "Connect-Oraculum -ConfigFile ./oraculum.secret.conf"
   ]
  },
  {
   "cell_type": "markdown",
   "metadata": {},
   "source": [
    "\n",
    "We first load a set of FAQs from a JSON file:"
   ]
  },
  {
   "cell_type": "code",
   "execution_count": 3,
   "metadata": {
    "dotnet_interactive": {
     "language": "pwsh"
    },
    "polyglot_notebook": {
     "kernelName": "pwsh"
    },
    "vscode": {
     "languageId": "polyglot-notebook"
    }
   },
   "outputs": [
    {
     "name": "stdout",
     "output_type": "stream",
     "text": [
      "\n",
      "\u001b[32;1mGuid\u001b[0m\n",
      "\u001b[32;1m----\u001b[0m\n",
      "93776f07-2ebe-474d-bb3f-2e41496e2c86\n",
      "e44cc7a7-0ed2-41aa-96c8-014708768132\n",
      "0df441c9-98b9-4737-a4fb-92ddb2aad9ab\n",
      "4d03ba8e-0358-4303-bfde-c09d3dde9faf\n",
      "b9f03dfc-62c3-4623-9be6-3564af2c4892\n",
      "de2f1230-ffc1-46a5-a889-0b3138e4ba37\n",
      "00ffaef9-cd0c-47dd-85f0-cd3c13c5c341\n",
      "835fbae3-a6d2-4186-ba00-7894a4221d60\n",
      "eb77b05e-7322-4494-b0d2-fd827d2d5b58\n",
      "575e9710-1476-453f-b8c5-3ce712baad32\n",
      "ef089850-d1e9-4069-874d-7760eb3d96f6\n",
      "fe27575e-b750-44da-8e42-fd0a65270a1a\n",
      "5a4f3322-964b-4249-a0c9-881abc3f1600\n",
      "d051d87c-7918-428c-a362-d08f474d1f32\n",
      "05bc504a-ebab-4854-bca7-73e14fcaeeef\n",
      "5a62515d-8f16-4551-b955-06caf0f3bff7\n",
      "21129ec7-b79e-457f-82ca-99e7fae01f6e\n",
      "e456cae3-3efc-4c52-9a00-e57f7bb8e533\n",
      "79093235-c2c3-463d-977b-2ab4c80a6199\n",
      "3cc79ad2-d4ba-4d09-bc14-5dd78696cff6\n",
      "2e9bc66d-0047-4580-bb46-24045fc5a3a3\n",
      "e5dc82fc-0ed8-4150-9d3c-2e34b78c298a\n",
      "e8ce43fb-8ed5-442b-a6fd-c83b285ac3c2\n",
      "70cfa4c3-5359-478d-ac2d-b74ef098ec92\n",
      "fb99c4aa-a472-4927-ae72-fc3afee26270\n",
      "59e74b0e-26c4-45a1-b4d6-289fe07f0682\n",
      "cdbd1852-0e94-48c8-ab6f-3a87fe45ffff\n",
      "5c58bfd1-2cbc-4329-8cd1-3d9837cef85d\n",
      "7a9cfd04-19cf-44f7-a84f-a34286749523\n",
      "1ccdb6c3-6e5a-454d-bbe6-2551a1da502b\n",
      "5f929447-80b2-464b-bbfa-afe6f096a9d0\n",
      "bd400296-873a-46ac-b4a9-39b278b5c21a\n",
      "7e7de30a-b97e-428a-bc8c-bb5cee7d7c8c\n",
      "fe6f84cf-1813-499f-8b06-18418b17fd7e\n",
      "c38d881e-8f4b-4481-aaa8-064e0909d33f\n",
      "bbd27a3c-d1fb-4f15-b9ac-36bf7977f10c\n",
      "8d58168a-837c-4815-a754-d0af6b1f0dba\n",
      "b6dad90c-35e3-4f5b-8cfe-323305629953\n",
      "06afd112-d74a-4400-ac84-12cee83475d4\n",
      "19ff1820-2ba4-4843-9c15-97acdd7ab3f0\n",
      "fc8f351d-17f1-4a8a-9840-249945b2c906\n",
      "\u001b[31;1mAdd-Fact: \u001b[0m\n",
      "\u001b[31;1m\u001b[36;1mLine |\u001b[0m\n",
      "\u001b[31;1m\u001b[36;1m\u001b[36;1m   3 | \u001b[0m $json |% { \u001b[36;1mAdd-Fact -Category movie -FactType faq -Title $_.q -Conten\u001b[0m …\u001b[0m\n",
      "\u001b[31;1m\u001b[36;1m\u001b[36;1m\u001b[0m\u001b[36;1m\u001b[0m\u001b[36;1m     | \u001b[31;1m            ~~~~~~~~~~~~~~~~~~~~~~~~~~~~~~~~~~~~~~~~~~~~~~~~~~~~~~~~~~\u001b[0m\n",
      "\u001b[31;1m\u001b[36;1m\u001b[36;1m\u001b[0m\u001b[36;1m\u001b[0m\u001b[36;1m\u001b[31;1m\u001b[31;1m\u001b[36;1m     | \u001b[31;1mOne or more errors occurred. (An error has occurred while trying to fulfill the request. Most likely the ErrorResponse will contain more information about the error.\u001b[0m\n",
      "\u001b[31;1m\u001b[36;1m\u001b[36;1m\u001b[0m\u001b[36;1m\u001b[0m\u001b[36;1m\u001b[31;1m\u001b[31;1m\u001b[36;1m\u001b[31;1m\u001b[0m\n",
      "\u001b[31;1m\u001b[36;1m\u001b[36;1m\u001b[0m\u001b[36;1m\u001b[0m\u001b[36;1m\u001b[31;1m\u001b[31;1m\u001b[36;1m\u001b[31;1mStatus: 500\u001b[0m\n",
      "\u001b[31;1m\u001b[36;1m\u001b[36;1m\u001b[0m\u001b[36;1m\u001b[0m\u001b[36;1m\u001b[31;1m\u001b[31;1m\u001b[36;1m\u001b[31;1mResponse: \u001b[0m\n",
      "\u001b[31;1m\u001b[36;1m\u001b[36;1m\u001b[0m\u001b[36;1m\u001b[0m\u001b[36;1m\u001b[31;1m\u001b[31;1m\u001b[36;1m\u001b[31;1m)\u001b[0m\n",
      "f8257381-2c88-4093-a809-42effe537486\n",
      "cc972bd3-b5bd-4601-80e7-3dddc09c23fe\n",
      "01bc41a9-9e43-4929-ab8a-6a6ae9777f3e\n",
      "\u001b[31;1mAdd-Fact: \u001b[0m\n",
      "\u001b[31;1m\u001b[36;1mLine |\u001b[0m\n",
      "\u001b[31;1m\u001b[36;1m\u001b[36;1m   3 | \u001b[0m $json |% { \u001b[36;1mAdd-Fact -Category movie -FactType faq -Title $_.q -Conten\u001b[0m …\u001b[0m\n",
      "\u001b[31;1m\u001b[36;1m\u001b[36;1m\u001b[0m\u001b[36;1m\u001b[0m\u001b[36;1m     | \u001b[31;1m            ~~~~~~~~~~~~~~~~~~~~~~~~~~~~~~~~~~~~~~~~~~~~~~~~~~~~~~~~~~\u001b[0m\n",
      "\u001b[31;1m\u001b[36;1m\u001b[36;1m\u001b[0m\u001b[36;1m\u001b[0m\u001b[36;1m\u001b[31;1m\u001b[31;1m\u001b[36;1m     | \u001b[31;1mOne or more errors occurred. (An error has occurred while trying to fulfill the request. Most likely the ErrorResponse will contain more information about the error.\u001b[0m\n",
      "\u001b[31;1m\u001b[36;1m\u001b[36;1m\u001b[0m\u001b[36;1m\u001b[0m\u001b[36;1m\u001b[31;1m\u001b[31;1m\u001b[36;1m\u001b[31;1m\u001b[0m\n",
      "\u001b[31;1m\u001b[36;1m\u001b[36;1m\u001b[0m\u001b[36;1m\u001b[0m\u001b[36;1m\u001b[31;1m\u001b[31;1m\u001b[36;1m\u001b[31;1mStatus: 500\u001b[0m\n",
      "\u001b[31;1m\u001b[36;1m\u001b[36;1m\u001b[0m\u001b[36;1m\u001b[0m\u001b[36;1m\u001b[31;1m\u001b[31;1m\u001b[36;1m\u001b[31;1mResponse: \u001b[0m\n",
      "\u001b[31;1m\u001b[36;1m\u001b[36;1m\u001b[0m\u001b[36;1m\u001b[0m\u001b[36;1m\u001b[31;1m\u001b[31;1m\u001b[36;1m\u001b[31;1m)\u001b[0m\n",
      "\u001b[31;1mAdd-Fact: \u001b[0m\n",
      "\u001b[31;1m\u001b[36;1mLine |\u001b[0m\n",
      "\u001b[31;1m\u001b[36;1m\u001b[36;1m   3 | \u001b[0m $json |% { \u001b[36;1mAdd-Fact -Category movie -FactType faq -Title $_.q -Conten\u001b[0m …\u001b[0m\n",
      "\u001b[31;1m\u001b[36;1m\u001b[36;1m\u001b[0m\u001b[36;1m\u001b[0m\u001b[36;1m     | \u001b[31;1m            ~~~~~~~~~~~~~~~~~~~~~~~~~~~~~~~~~~~~~~~~~~~~~~~~~~~~~~~~~~\u001b[0m\n",
      "\u001b[31;1m\u001b[36;1m\u001b[36;1m\u001b[0m\u001b[36;1m\u001b[0m\u001b[36;1m\u001b[31;1m\u001b[31;1m\u001b[36;1m     | \u001b[31;1mOne or more errors occurred. (An error has occurred while trying to fulfill the request. Most likely the ErrorResponse will contain more information about the error.\u001b[0m\n",
      "\u001b[31;1m\u001b[36;1m\u001b[36;1m\u001b[0m\u001b[36;1m\u001b[0m\u001b[36;1m\u001b[31;1m\u001b[31;1m\u001b[36;1m\u001b[31;1m\u001b[0m\n",
      "\u001b[31;1m\u001b[36;1m\u001b[36;1m\u001b[0m\u001b[36;1m\u001b[0m\u001b[36;1m\u001b[31;1m\u001b[31;1m\u001b[36;1m\u001b[31;1mStatus: 500\u001b[0m\n",
      "\u001b[31;1m\u001b[36;1m\u001b[36;1m\u001b[0m\u001b[36;1m\u001b[0m\u001b[36;1m\u001b[31;1m\u001b[31;1m\u001b[36;1m\u001b[31;1mResponse: \u001b[0m\n",
      "\u001b[31;1m\u001b[36;1m\u001b[36;1m\u001b[0m\u001b[36;1m\u001b[0m\u001b[36;1m\u001b[31;1m\u001b[31;1m\u001b[36;1m\u001b[31;1m)\u001b[0m\n",
      "a42310aa-9bd1-47cd-ae1e-76fbce9f56e4\n",
      "ed22d02d-176e-42c5-bf22-bd298207226f\n",
      "6839f8f0-a6ac-413e-9816-0422d52f6407\n",
      "8a6a40a1-ac2f-4a73-8e94-3db000d7e909\n",
      "eded807e-604e-492d-87d2-d81fc6d8b1b0\n",
      "96f82bc6-ca44-4b20-916f-14545d7d4427\n",
      "03f7c800-f401-41cd-a7e0-6338b7dbc13a\n",
      "709de750-9043-4070-bd2c-a5797f26f61c\n",
      "7078cb28-f4db-461b-b91d-4d920eed6f69\n",
      "d959f468-d1b5-4b33-8547-0879c63bd4b7\n",
      "2c9da925-fa2e-4057-9057-ece86bd7c32c\n",
      "bfd3a764-7522-48b1-aa1f-af8c8f6e95ff\n",
      "e0adaf4d-0e1a-4b47-891c-66a4b11dd1a9\n",
      "7d9dcb83-5a12-47c8-b2ee-250211b4f75d\n",
      "794bb330-7cf7-4d9e-9ee9-115b63ca593a\n",
      "6a5e4e45-cedf-47d8-9d63-fa6c1833f3a7\n",
      "4ff88e8e-0b55-40b5-8c73-0f93e5da2edd\n",
      "74afcc50-a94c-4b32-a725-c79e2eac12aa\n",
      "068ff538-41b6-4b32-91b7-cd23fcfd4d7a\n",
      "e0010b2a-5b4e-461b-beb7-9418bf4beb3d\n",
      "0a4ad8e6-81db-4d33-9fc0-28ab68959989\n",
      "e3ac9d44-8fbb-4b68-a787-4fc16f1da646\n",
      "93cfaa23-66f1-41ab-b8bc-28cfa818f0fb\n",
      "fe52ff5c-716a-4a93-9cb5-8819f0773db1\n",
      "1004f7c6-4bc3-4279-b3f4-cab117a976c7\n",
      "0d30a5cb-1994-48ab-86af-35e3b8457d03\n",
      "371e5de1-c037-4970-bf9b-ce26494caeeb\n",
      "c43cf76a-8d54-4ac4-80d0-51ab5f763fbc\n",
      "dfdcc243-6b82-4e7a-b18b-2ef47fc6aab4\n",
      "2c826f94-043c-4eb2-8faa-d47278bd466c\n",
      "9209be9e-c3be-4f32-bbb4-37a41bcf220d\n",
      "06a9ea1d-6c9a-4684-96a4-5b9984dd5f54\n",
      "b30f4609-9e61-42ae-afd0-f906cb8046f7\n",
      "0fa8b1a9-6182-4a36-a371-3e3223024788\n",
      "eec6c6f5-3097-4004-9fee-2a86af42453f\n",
      "a69a2f57-6c56-44c1-93be-fba56e8a04a2\n",
      "99f05060-b01c-4dd5-aa35-be0e42581be8\n",
      "cff51443-812d-4c3f-87cf-b0183bf23aa3\n",
      "e4b98352-687c-474b-8506-8ea9be308081\n",
      "2f46f2f7-1fec-4b74-a445-9048f965c45a\n",
      "7fe314c7-222d-4bcb-92bf-b020053fdb7f\n",
      "44ac7985-08ab-482e-818b-98df660ed189\n",
      "280b7878-8ced-4d70-aa08-910f2744ea21\n",
      "8a122c5f-22cc-410a-a481-ae67475c0bc1\n",
      "776aa9e4-7c52-4e94-ba3f-6e86ed737548\n",
      "\u001b[31;1mAdd-Fact: \u001b[0m\n",
      "\u001b[31;1m\u001b[36;1mLine |\u001b[0m\n",
      "\u001b[31;1m\u001b[36;1m\u001b[36;1m   3 | \u001b[0m $json |% { \u001b[36;1mAdd-Fact -Category movie -FactType faq -Title $_.q -Conten\u001b[0m …\u001b[0m\n",
      "\u001b[31;1m\u001b[36;1m\u001b[36;1m\u001b[0m\u001b[36;1m\u001b[0m\u001b[36;1m     | \u001b[31;1m            ~~~~~~~~~~~~~~~~~~~~~~~~~~~~~~~~~~~~~~~~~~~~~~~~~~~~~~~~~~\u001b[0m\n",
      "\u001b[31;1m\u001b[36;1m\u001b[36;1m\u001b[0m\u001b[36;1m\u001b[0m\u001b[36;1m\u001b[31;1m\u001b[31;1m\u001b[36;1m     | \u001b[31;1mOne or more errors occurred. (An error has occurred while trying to fulfill the request. Most likely the ErrorResponse will contain more information about the error.\u001b[0m\n",
      "\u001b[31;1m\u001b[36;1m\u001b[36;1m\u001b[0m\u001b[36;1m\u001b[0m\u001b[36;1m\u001b[31;1m\u001b[31;1m\u001b[36;1m\u001b[31;1m\u001b[0m\n",
      "\u001b[31;1m\u001b[36;1m\u001b[36;1m\u001b[0m\u001b[36;1m\u001b[0m\u001b[36;1m\u001b[31;1m\u001b[31;1m\u001b[36;1m\u001b[31;1mStatus: 500\u001b[0m\n",
      "\u001b[31;1m\u001b[36;1m\u001b[36;1m\u001b[0m\u001b[36;1m\u001b[0m\u001b[36;1m\u001b[31;1m\u001b[31;1m\u001b[36;1m\u001b[31;1mResponse: \u001b[0m\n",
      "\u001b[31;1m\u001b[36;1m\u001b[36;1m\u001b[0m\u001b[36;1m\u001b[0m\u001b[36;1m\u001b[31;1m\u001b[31;1m\u001b[36;1m\u001b[31;1m)\u001b[0m\n",
      "9ece0cf6-10e6-4a93-8996-cf30b1b9f58c\n",
      "7c018bea-c14b-495d-8cc8-7c35f421c3e8\n",
      "8e806e55-fcbc-4848-8153-620d2124a150\n",
      "46e24074-f7b9-48b3-865f-9fff038939bf\n",
      "4ec9f569-e8ee-4f43-8c49-9344701ba931\n",
      "8671b7d1-78aa-4844-9f73-e732621e36cc\n",
      "ff7989b6-389d-4564-a7b0-f3ad9bbaa55d\n",
      "29d39031-5d64-43ee-b822-e98fe7689b57\n",
      "bcb588f0-b6c7-41bd-979a-c1da1ae0a781\n",
      "6b54ca21-1486-4564-92f8-86de5ce85d1a\n",
      "0cec11e9-a6a3-47db-8b36-e0ed5a87f56d\n",
      "76954e65-bd9f-48f3-8e90-55c01db557d5\n",
      "5afc2ba9-4e02-4e32-b62e-e1eb22990bbf\n",
      "d158497e-7e45-4286-bea0-b7195bdfd076\n",
      "1589545c-012b-4209-bb17-a2f006538265\n",
      "f1afbd93-63af-41cd-a076-7373fcc3294f\n",
      "c17a7747-4494-4b69-8035-0b12fc9b28eb\n",
      "682e4c48-f651-43ea-bd44-cb6d9a7d904d\n",
      "3f39be64-35f3-4c04-b522-7dae94bca685\n",
      "beaa490e-59af-4f66-a4a2-de1826cc6d69\n",
      "b5a1dcf7-2f44-4d23-9785-494603a4c3c7\n",
      "bf852658-7804-4bd0-a1ca-bf5fab491ae8\n",
      "bae871bd-30c1-4b6e-8fb4-c6d74c8c890a\n",
      "bc1f160c-0b77-4bb5-840a-58a6ca9a87a4\n",
      "33d87c12-2762-44bc-b8e6-3946693e661d\n",
      "020847ca-a6da-4f2d-8f25-73fff285018e\n",
      "aad8bf72-9f3e-4758-a2a5-bc569721efab\n",
      "5f053c0b-9ad9-4c92-8830-d7428f89af25\n",
      "a4f4f1f0-9599-4fc3-81d2-47101dda3e89\n",
      "42099866-7d81-4b62-9b94-f74157e764f4\n",
      "f89ed389-3382-478e-851a-ece89e96df16\n",
      "26d00337-6406-4d37-b64b-cfc75e130a88\n",
      "f6e1d291-26ad-4d6a-8575-b5c8af517b0e\n",
      "1deb0009-47e5-47e2-89ec-36d13939d683\n",
      "f2173422-8bd8-4ebe-9f60-63b91baa07db\n",
      "01799b5d-a3cd-47c6-8068-dc08ad2a5949\n",
      "7eda37cd-b441-4218-8cd4-70f72ee97e17\n",
      "b7eb130a-c474-46cb-a140-bc9e12b6344d\n",
      "9974c060-818b-4214-8217-131427587ab0\n",
      "77937ab0-b2e3-42c6-a30f-fb4222bdec15\n",
      "0bb705b9-0d88-4142-8b40-bae20fe8decd\n",
      "bcf5b333-9e7c-457a-afc3-0b0d7d8642b7\n",
      "34bebce1-3f28-417e-9456-565564e6dda2\n",
      "76e02618-f7d3-4e40-a260-41d7336793f1\n",
      "93864c3a-bcdb-442c-86ad-dff31bb8543d\n",
      "f06dd1e7-7f8b-4cfc-bb24-b2dba5a29bb3\n",
      "fc0ffab5-e4f3-42aa-b31c-219be65b3aba\n",
      "f2624efd-ef49-4551-aff8-a0920cd865a4\n",
      "2aaab947-d32d-4063-95d1-c87c9fc6258e\n",
      "9e3e8973-e7fe-401c-a530-5429d7fb13b4\n",
      "52070f0c-aa28-43e0-9b3d-ef1ae0f6cfc5\n",
      "e5d4622d-99f2-4e4e-be0a-58b5f1391f14\n",
      "11a71f5f-872b-493a-801d-5fbcebec7e8d\n",
      "c3e70c41-5c5c-49a7-b728-2e83a1f293b6\n",
      "c6360b68-37ef-43bf-9d14-9c81c7c296fd\n",
      "216d8b2d-b8ce-4107-b513-758ca200415c\n",
      "397ccbc0-64ba-4bed-9b11-578b6537c900\n",
      "10a89b58-6cad-4f67-ad93-987b3039a3d4\n",
      "0ad859e5-9b30-4785-8a56-4a11a276abbc\n",
      "1f477218-00cc-46cd-9b97-d068d640c761\n",
      "dd820c7c-f016-47a2-904c-5e7d7a7ecb06\n",
      "e984b30d-ac94-4a6d-8576-4bb8b8f76d50\n",
      "1f752016-8591-4929-a5cb-9ae76e808e17\n",
      "\u001b[31;1mAdd-Fact: \u001b[0m\n",
      "\u001b[31;1m\u001b[36;1mLine |\u001b[0m\n",
      "\u001b[31;1m\u001b[36;1m\u001b[36;1m   3 | \u001b[0m $json |% { \u001b[36;1mAdd-Fact -Category movie -FactType faq -Title $_.q -Conten\u001b[0m …\u001b[0m\n",
      "\u001b[31;1m\u001b[36;1m\u001b[36;1m\u001b[0m\u001b[36;1m\u001b[0m\u001b[36;1m     | \u001b[31;1m            ~~~~~~~~~~~~~~~~~~~~~~~~~~~~~~~~~~~~~~~~~~~~~~~~~~~~~~~~~~\u001b[0m\n",
      "\u001b[31;1m\u001b[36;1m\u001b[36;1m\u001b[0m\u001b[36;1m\u001b[0m\u001b[36;1m\u001b[31;1m\u001b[31;1m\u001b[36;1m     | \u001b[31;1mOne or more errors occurred. (An error has occurred while trying to fulfill the request. Most likely the ErrorResponse will contain more information about the error.\u001b[0m\n",
      "\u001b[31;1m\u001b[36;1m\u001b[36;1m\u001b[0m\u001b[36;1m\u001b[0m\u001b[36;1m\u001b[31;1m\u001b[31;1m\u001b[36;1m\u001b[31;1m\u001b[0m\n",
      "\u001b[31;1m\u001b[36;1m\u001b[36;1m\u001b[0m\u001b[36;1m\u001b[0m\u001b[36;1m\u001b[31;1m\u001b[31;1m\u001b[36;1m\u001b[31;1mStatus: 500\u001b[0m\n",
      "\u001b[31;1m\u001b[36;1m\u001b[36;1m\u001b[0m\u001b[36;1m\u001b[0m\u001b[36;1m\u001b[31;1m\u001b[31;1m\u001b[36;1m\u001b[31;1mResponse: \u001b[0m\n",
      "\u001b[31;1m\u001b[36;1m\u001b[36;1m\u001b[0m\u001b[36;1m\u001b[0m\u001b[36;1m\u001b[31;1m\u001b[31;1m\u001b[36;1m\u001b[31;1m)\u001b[0m\n",
      "7c5fa972-7a47-42d4-b9c0-0453697298d2\n",
      "50a31fd6-2543-4056-95f9-d8461acc4065\n",
      "5222f742-9d05-49ae-91a1-40a24123e13d\n",
      "b6c293fe-943c-4bb8-b7a7-5cdd42c8e514\n",
      "9c5f4482-c9b4-40a7-a3e2-4b64e4e770dd\n",
      "a5a0ee3a-4910-4663-9758-9dd6294b0629\n",
      "821c0269-9df3-4954-9f07-8f3b4b0534f2\n",
      "fd62fd8a-5cff-4679-baa5-5f13b160d46e\n",
      "027273d1-af83-4c24-bc51-f5faf8a5d718\n",
      "b146e3cc-4ef6-40d2-96bd-41c12ef2af75\n",
      "70d6c75c-a14e-4014-8edd-d2eeeb67d351\n",
      "0004827a-bf31-48df-a358-92c16896a43b\n",
      "49f30eb6-ed01-4d5d-ae3c-b8f392eab205\n",
      "c04622bb-7b3d-4667-a894-bc6666737375\n",
      "010ae725-3e19-49a2-973f-3835e5b36198\n",
      "f21d9ca9-f563-497c-994b-ff1a980fc191\n",
      "53f45e3e-8724-4ebb-bb97-3bd06dd1d17a\n",
      "a01c39c5-3d21-46eb-8cd8-3b151bd6fe90\n",
      "af06a949-45b3-44f0-aa70-f9152440876e\n",
      "7f9d6093-3ae3-400c-83c0-9575ef059d26\n",
      "7926405a-9575-4fdb-88bd-f7235cc7c11f\n",
      "dbcefdce-8195-4a35-912a-5d21cb760e56\n",
      "99553aba-b653-457a-9529-a0c593f81a0a\n",
      "0dab1696-c11a-4f08-ae25-68a3a32815bb\n",
      "b4870451-fc43-4448-841a-40d3aecb8482\n",
      "53b8ad3a-3b33-42e4-bf26-70e46070b44f\n",
      "ced26037-3f5c-41e5-a96f-722181ab9f8c\n",
      "10cbe622-8329-4a4d-92a6-2ff12e9941f9\n",
      "efa4b10d-3c43-4393-8c9c-9e12f1995c5b\n",
      "73ffe988-5f04-4b0c-b622-0d2ba0bab781\n",
      "e5bcd6b7-2a70-4479-b991-b08bd7ab47da\n",
      "13fa1107-b65b-4dfe-837c-7bcdddc325b4\n",
      "4244ac4e-45c6-4900-b3a1-56fc3884116a\n",
      "ff2d7493-3eb2-4d43-8235-b1b90a56d185\n",
      "c6eb3bd4-e7f4-4ae1-9641-008f8706642b\n",
      "69b6de12-197f-46ef-875c-0d12880045f8\n",
      "a28ed46c-6a69-4c6d-8be1-c05254f4fc71\n",
      "288129ae-e0c9-4690-8afc-d182cec6aa6b\n",
      "2bfbc7b6-11f6-4078-be85-e14e8da35ca6\n",
      "4daa5d3b-e05a-49e6-9c4e-7ecc443a93d1\n",
      "e22ed77c-5f97-4414-9777-c71dc043121e\n",
      "4652ac86-cb12-4ab1-b3f8-a7da6a6309c3\n",
      "73124d7d-8841-407b-afad-cd249bab1825\n",
      "cc80bf56-5439-43ab-a12e-e2154a35c0e3\n",
      "0ed2585e-5e7c-4106-97ea-0bf6e528fc1e\n",
      "55e0b2a6-eedf-454e-8dd2-86ef9158814f\n",
      "d1b33693-60df-4b61-b280-871ab378cd19\n",
      "34c526b6-70d0-443c-8cf9-4f145c5525c9\n",
      "77821318-d9f0-4054-bd9d-7666f58c9cc3\n",
      "d8e18fb7-6c8f-4f0f-8071-2bf42a5d251d\n",
      "9c327a57-d4a8-42ef-a333-d4c1e18f963c\n",
      "c2384b3a-173b-4419-953f-b9f42a60c90e\n",
      "e261a88d-1df7-4320-87d2-63256043bdc0\n",
      "46d92c0e-3186-4010-8c3d-cd57b1f91086\n",
      "27687906-e3de-4926-b285-1999f1151fae\n",
      "363494f2-3bee-4433-a2d0-27911d7a152d\n",
      "5faae63c-7e46-439c-b025-6d6ed6b338f7\n",
      "\u001b[31;1mAdd-Fact: \u001b[0m\n",
      "\u001b[31;1m\u001b[36;1mLine |\u001b[0m\n",
      "\u001b[31;1m\u001b[36;1m\u001b[36;1m   3 | \u001b[0m $json |% { \u001b[36;1mAdd-Fact -Category movie -FactType faq -Title $_.q -Conten\u001b[0m …\u001b[0m\n",
      "\u001b[31;1m\u001b[36;1m\u001b[36;1m\u001b[0m\u001b[36;1m\u001b[0m\u001b[36;1m     | \u001b[31;1m            ~~~~~~~~~~~~~~~~~~~~~~~~~~~~~~~~~~~~~~~~~~~~~~~~~~~~~~~~~~\u001b[0m\n",
      "\u001b[31;1m\u001b[36;1m\u001b[36;1m\u001b[0m\u001b[36;1m\u001b[0m\u001b[36;1m\u001b[31;1m\u001b[31;1m\u001b[36;1m     | \u001b[31;1mOne or more errors occurred. (An error has occurred while trying to fulfill the request. Most likely the ErrorResponse will contain more information about the error.\u001b[0m\n",
      "\u001b[31;1m\u001b[36;1m\u001b[36;1m\u001b[0m\u001b[36;1m\u001b[0m\u001b[36;1m\u001b[31;1m\u001b[31;1m\u001b[36;1m\u001b[31;1m\u001b[0m\n",
      "\u001b[31;1m\u001b[36;1m\u001b[36;1m\u001b[0m\u001b[36;1m\u001b[0m\u001b[36;1m\u001b[31;1m\u001b[31;1m\u001b[36;1m\u001b[31;1mStatus: 500\u001b[0m\n",
      "\u001b[31;1m\u001b[36;1m\u001b[36;1m\u001b[0m\u001b[36;1m\u001b[0m\u001b[36;1m\u001b[31;1m\u001b[31;1m\u001b[36;1m\u001b[31;1mResponse: \u001b[0m\n",
      "\u001b[31;1m\u001b[36;1m\u001b[36;1m\u001b[0m\u001b[36;1m\u001b[0m\u001b[36;1m\u001b[31;1m\u001b[31;1m\u001b[36;1m\u001b[31;1m)\u001b[0m\n",
      "b7a9fd92-e7a7-413f-b475-29c3969d62af\n",
      "ad064dcb-baba-4d2e-84ce-3502f859019a\n",
      "550e8052-6106-496c-ab50-a115a7bc2671\n",
      "a789a36f-a87c-4fc3-adf7-688b3174ac10\n",
      "43a78939-b831-4eb7-b82c-aef36719f65d\n",
      "dfcc20c5-791d-4d1f-aeb7-b419b8df1cf1\n",
      "50cec483-d37a-40ce-97bb-6730d94c608f\n",
      "c903a02a-6be1-452f-85cb-f6bf6b5c1cd0\n",
      "c6f8de29-d962-4435-8007-b3205a51293d\n",
      "64a37a0c-dbd3-4f12-bb81-ae7731f15aa5\n",
      "6b479648-63b1-44fc-bcfe-5c22bb57974c\n",
      "742eb81e-2a13-4496-9198-4cd9ccf7e0ec\n",
      "9947058a-e553-4d27-b15e-a65a7c1a2645\n",
      "274bfc97-0423-4e00-8396-48b6bc16c3dd\n",
      "b481a114-4b60-42ea-a14e-1e955b89d720\n",
      "7b5ee1ab-03ab-4190-adc2-f0451cbdae24\n",
      "2b952eab-7b0b-4fb7-a17f-6e02f41624c7\n",
      "c8a808fd-a34d-41ae-a49c-efeea14c921c\n",
      "\u001b[31;1mAdd-Fact: \u001b[0m\n",
      "\u001b[31;1m\u001b[36;1mLine |\u001b[0m\n",
      "\u001b[31;1m\u001b[36;1m\u001b[36;1m   3 | \u001b[0m $json |% { \u001b[36;1mAdd-Fact -Category movie -FactType faq -Title $_.q -Conten\u001b[0m …\u001b[0m\n",
      "\u001b[31;1m\u001b[36;1m\u001b[36;1m\u001b[0m\u001b[36;1m\u001b[0m\u001b[36;1m     | \u001b[31;1m            ~~~~~~~~~~~~~~~~~~~~~~~~~~~~~~~~~~~~~~~~~~~~~~~~~~~~~~~~~~\u001b[0m\n",
      "\u001b[31;1m\u001b[36;1m\u001b[36;1m\u001b[0m\u001b[36;1m\u001b[0m\u001b[36;1m\u001b[31;1m\u001b[31;1m\u001b[36;1m     | \u001b[31;1mOne or more errors occurred. (An error has occurred while trying to fulfill the request. Most likely the ErrorResponse will contain more information about the error.\u001b[0m\n",
      "\u001b[31;1m\u001b[36;1m\u001b[36;1m\u001b[0m\u001b[36;1m\u001b[0m\u001b[36;1m\u001b[31;1m\u001b[31;1m\u001b[36;1m\u001b[31;1m\u001b[0m\n",
      "\u001b[31;1m\u001b[36;1m\u001b[36;1m\u001b[0m\u001b[36;1m\u001b[0m\u001b[36;1m\u001b[31;1m\u001b[31;1m\u001b[36;1m\u001b[31;1mStatus: 500\u001b[0m\n",
      "\u001b[31;1m\u001b[36;1m\u001b[36;1m\u001b[0m\u001b[36;1m\u001b[0m\u001b[36;1m\u001b[31;1m\u001b[31;1m\u001b[36;1m\u001b[31;1mResponse: \u001b[0m\n",
      "\u001b[31;1m\u001b[36;1m\u001b[36;1m\u001b[0m\u001b[36;1m\u001b[0m\u001b[36;1m\u001b[31;1m\u001b[31;1m\u001b[36;1m\u001b[31;1m)\u001b[0m\n",
      "0797e23b-9dfc-4e6d-8196-d8863a0afeab\n",
      "7b5d3992-e6f3-48fa-9543-b0f8eee9506c\n",
      "94d593f0-3bfd-4aa0-9e57-e4c08f21e9f5\n",
      "1dbfbe8b-b1a5-49c6-aa76-91607e5c45a7\n",
      "4ea446c6-04b1-4ba1-82bf-78c8ce6085c3\n",
      "5987e452-291e-430f-9ea9-398244ce39ca\n",
      "53b26890-2cc0-4eca-ab0c-4b9b72ea4fb0\n",
      "ec20a9bb-29bc-4748-b908-d31ebb72a676\n",
      "c7d104bb-6cff-49a4-8f3c-52e986b574e0\n",
      "7a514c3a-09f1-47f9-90a0-8ca2bce499d9\n",
      "e0b0fa2d-d046-4824-8b99-e54f7c123ba6\n",
      "1b6afde0-25a1-4efb-8ab2-1f6f8964dd28\n",
      "d6e63d94-bc31-4949-a03e-25f340700ce5\n",
      "edf49589-346a-4e9d-a172-d51e457d96cd\n",
      "5437439f-f169-4d19-9a9f-354bccccd8cd\n",
      "2d935cef-afe6-431e-b911-0ea31a03f9e1\n",
      "651657e3-9052-42ac-9dba-808669c98bd9\n",
      "b786547c-f843-4c2c-bcf2-07f0937f2766\n",
      "fafb58c1-cb02-471c-9b94-2743de43021b\n",
      "dadfbf9a-53ac-4bff-bea3-a3936f9c9179\n",
      "fb1df0e0-59fb-4220-bbe3-5e4cf131c38e\n",
      "99eac95c-4a61-4a0d-8d40-349cb66bb877\n",
      "43c724f5-277d-47d1-bc7e-f727027d20a7\n",
      "df0d0173-46a0-493e-a016-24b0d6d2cfa2\n",
      "\u001b[31;1mAdd-Fact: \u001b[0m\n",
      "\u001b[31;1m\u001b[36;1mLine |\u001b[0m\n",
      "\u001b[31;1m\u001b[36;1m\u001b[36;1m   3 | \u001b[0m $json |% { \u001b[36;1mAdd-Fact -Category movie -FactType faq -Title $_.q -Conten\u001b[0m …\u001b[0m\n",
      "\u001b[31;1m\u001b[36;1m\u001b[36;1m\u001b[0m\u001b[36;1m\u001b[0m\u001b[36;1m     | \u001b[31;1m            ~~~~~~~~~~~~~~~~~~~~~~~~~~~~~~~~~~~~~~~~~~~~~~~~~~~~~~~~~~\u001b[0m\n",
      "\u001b[31;1m\u001b[36;1m\u001b[36;1m\u001b[0m\u001b[36;1m\u001b[0m\u001b[36;1m\u001b[31;1m\u001b[31;1m\u001b[36;1m     | \u001b[31;1mOne or more errors occurred. (An error has occurred while trying to fulfill the request. Most likely the ErrorResponse will contain more information about the error.\u001b[0m\n",
      "\u001b[31;1m\u001b[36;1m\u001b[36;1m\u001b[0m\u001b[36;1m\u001b[0m\u001b[36;1m\u001b[31;1m\u001b[31;1m\u001b[36;1m\u001b[31;1m\u001b[0m\n",
      "\u001b[31;1m\u001b[36;1m\u001b[36;1m\u001b[0m\u001b[36;1m\u001b[0m\u001b[36;1m\u001b[31;1m\u001b[31;1m\u001b[36;1m\u001b[31;1mStatus: 500\u001b[0m\n",
      "\u001b[31;1m\u001b[36;1m\u001b[36;1m\u001b[0m\u001b[36;1m\u001b[0m\u001b[36;1m\u001b[31;1m\u001b[31;1m\u001b[36;1m\u001b[31;1mResponse: \u001b[0m\n",
      "\u001b[31;1m\u001b[36;1m\u001b[36;1m\u001b[0m\u001b[36;1m\u001b[0m\u001b[36;1m\u001b[31;1m\u001b[31;1m\u001b[36;1m\u001b[31;1m)\u001b[0m\n",
      "bbbb6e9e-bec3-4bd7-8f56-143150a01e13\n",
      "15298081-1426-4a3e-8c89-a2d01c2fc28d\n",
      "b8ad4867-1417-4936-9619-35707f963613\n",
      "82b3b4d5-9176-4dfb-a839-c626f905f62d\n",
      "5238945b-1557-46e4-80fb-a3f8f0cd4fb0\n",
      "\u001b[31;1mAdd-Fact: \u001b[0m\n",
      "\u001b[31;1m\u001b[36;1mLine |\u001b[0m\n",
      "\u001b[31;1m\u001b[36;1m\u001b[36;1m   3 | \u001b[0m $json |% { \u001b[36;1mAdd-Fact -Category movie -FactType faq -Title $_.q -Conten\u001b[0m …\u001b[0m\n",
      "\u001b[31;1m\u001b[36;1m\u001b[36;1m\u001b[0m\u001b[36;1m\u001b[0m\u001b[36;1m     | \u001b[31;1m            ~~~~~~~~~~~~~~~~~~~~~~~~~~~~~~~~~~~~~~~~~~~~~~~~~~~~~~~~~~\u001b[0m\n",
      "\u001b[31;1m\u001b[36;1m\u001b[36;1m\u001b[0m\u001b[36;1m\u001b[0m\u001b[36;1m\u001b[31;1m\u001b[31;1m\u001b[36;1m     | \u001b[31;1mOne or more errors occurred. (An error has occurred while trying to fulfill the request. Most likely the ErrorResponse will contain more information about the error.\u001b[0m\n",
      "\u001b[31;1m\u001b[36;1m\u001b[36;1m\u001b[0m\u001b[36;1m\u001b[0m\u001b[36;1m\u001b[31;1m\u001b[31;1m\u001b[36;1m\u001b[31;1m\u001b[0m\n",
      "\u001b[31;1m\u001b[36;1m\u001b[36;1m\u001b[0m\u001b[36;1m\u001b[0m\u001b[36;1m\u001b[31;1m\u001b[31;1m\u001b[36;1m\u001b[31;1mStatus: 500\u001b[0m\n",
      "\u001b[31;1m\u001b[36;1m\u001b[36;1m\u001b[0m\u001b[36;1m\u001b[0m\u001b[36;1m\u001b[31;1m\u001b[31;1m\u001b[36;1m\u001b[31;1mResponse: \u001b[0m\n",
      "\u001b[31;1m\u001b[36;1m\u001b[36;1m\u001b[0m\u001b[36;1m\u001b[0m\u001b[36;1m\u001b[31;1m\u001b[31;1m\u001b[36;1m\u001b[31;1m)\u001b[0m\n",
      "58d86f2b-c9e1-4c69-90e0-35411fd1efa4\n",
      "d1f0461c-fab5-4b5a-b8e7-1b749e0dc67d\n",
      "40fce54c-e735-4986-92ee-17ce829a73a2\n",
      "0d21c712-488b-49ab-9ed2-46a01dee7784\n",
      "52f73958-2183-49b3-848f-a91f8adbcda1\n",
      "bbaff249-df7b-4b22-8dd2-846d9b8aaa01\n",
      "adb460f0-cade-4059-aa94-17a410e7df6e\n",
      "fe167275-7f87-41f2-a4b9-674633e20d12\n",
      "f3d1d360-5ceb-45e0-be56-43c6a27dd96c\n",
      "3d7a4a2e-edb7-442a-9d97-3dd0c880cba0\n",
      "128baefa-8bf5-4cd3-89e7-701f1680d384\n",
      "56b6d22e-ec50-44fc-bfd7-cfbf8d547c90\n",
      "85b358e9-3a22-439a-969f-dc728ed55ff1\n",
      "276c6f3a-cf4a-40bc-adb8-dc72489e5fcb\n",
      "bae44668-dd22-4a2d-91a2-3697b1bad8e2\n",
      "3e13ffbd-364c-41a6-b607-7842eed79a67\n",
      "393aab5c-db34-4846-a99b-ae29e9d77228\n",
      "050859a2-efba-4144-a12e-ae70303f4a2e\n",
      "12831ed3-706d-409b-9a3c-558306c625e2\n",
      "19ab163b-872e-44e9-85af-3f6ba9668f4c\n",
      "ad7685ca-360f-443c-a2e0-0fa30958a9e3\n",
      "\u001b[31;1mAdd-Fact: \u001b[0m\n",
      "\u001b[31;1m\u001b[36;1mLine |\u001b[0m\n",
      "\u001b[31;1m\u001b[36;1m\u001b[36;1m   3 | \u001b[0m $json |% { \u001b[36;1mAdd-Fact -Category movie -FactType faq -Title $_.q -Conten\u001b[0m …\u001b[0m\n",
      "\u001b[31;1m\u001b[36;1m\u001b[36;1m\u001b[0m\u001b[36;1m\u001b[0m\u001b[36;1m     | \u001b[31;1m            ~~~~~~~~~~~~~~~~~~~~~~~~~~~~~~~~~~~~~~~~~~~~~~~~~~~~~~~~~~\u001b[0m\n",
      "\u001b[31;1m\u001b[36;1m\u001b[36;1m\u001b[0m\u001b[36;1m\u001b[0m\u001b[36;1m\u001b[31;1m\u001b[31;1m\u001b[36;1m     | \u001b[31;1mOne or more errors occurred. (An error has occurred while trying to fulfill the request. Most likely the ErrorResponse will contain more information about the error.\u001b[0m\n",
      "\u001b[31;1m\u001b[36;1m\u001b[36;1m\u001b[0m\u001b[36;1m\u001b[0m\u001b[36;1m\u001b[31;1m\u001b[31;1m\u001b[36;1m\u001b[31;1m\u001b[0m\n",
      "\u001b[31;1m\u001b[36;1m\u001b[36;1m\u001b[0m\u001b[36;1m\u001b[0m\u001b[36;1m\u001b[31;1m\u001b[31;1m\u001b[36;1m\u001b[31;1mStatus: 500\u001b[0m\n",
      "\u001b[31;1m\u001b[36;1m\u001b[36;1m\u001b[0m\u001b[36;1m\u001b[0m\u001b[36;1m\u001b[31;1m\u001b[31;1m\u001b[36;1m\u001b[31;1mResponse: \u001b[0m\n",
      "\u001b[31;1m\u001b[36;1m\u001b[36;1m\u001b[0m\u001b[36;1m\u001b[0m\u001b[36;1m\u001b[31;1m\u001b[31;1m\u001b[36;1m\u001b[31;1m)\u001b[0m\n",
      "\n"
     ]
    },
    {
     "ename": "Error",
     "evalue": "Command failed: SubmitCode: $json = Get-Content ./qamoviedb.json | ConvertFrom ...",
     "output_type": "error",
     "traceback": [
      "Command failed: SubmitCode: $json = Get-Content ./qamoviedb.json | ConvertFrom ..."
     ]
    }
   ],
   "source": [
    "$json = Get-Content ./qamoviedb.json | ConvertFrom-Json\n",
    "$n = 1\n",
    "$json |% { Add-Fact -Category movie -FactType faq -Title $_.q -Content $_.a -Citation (\"FAQ#\" + $n++) }"
   ]
  },
  {
   "cell_type": "markdown",
   "metadata": {},
   "source": [
    "Note that we have added facts individually, this may take a while. The command `Add-Facts` would have been much faster but we should have created an array of `Fact` objects first. For small loads it is easier to add facts individually.\n",
    "\n",
    "Now we can check that the facts have been added:"
   ]
  },
  {
   "cell_type": "code",
   "execution_count": 8,
   "metadata": {
    "dotnet_interactive": {
     "language": "pwsh"
    },
    "polyglot_notebook": {
     "kernelName": "pwsh"
    },
    "vscode": {
     "languageId": "polyglot-notebook"
    }
   },
   "outputs": [
    {
     "name": "stdout",
     "output_type": "stream",
     "text": [
      "287\r\n"
     ]
    }
   ],
   "source": [
    "Get-TotalFact"
   ]
  },
  {
   "cell_type": "markdown",
   "metadata": {},
   "source": [
    "You can use the `Get-Fact` command to retrieve a fact by its id, and the `Get-Facts` command to retrieve all facts in the repository. The `Get-Facts` command takes a single parameter, the number of facts to retrieve. If you do not specify a number, the limit is set to 1024:"
   ]
  },
  {
   "cell_type": "code",
   "execution_count": 9,
   "metadata": {
    "dotnet_interactive": {
     "language": "pwsh"
    },
    "polyglot_notebook": {
     "kernelName": "pwsh"
    },
    "vscode": {
     "languageId": "polyglot-notebook"
    }
   },
   "outputs": [
    {
     "name": "stdout",
     "output_type": "stream",
     "text": [
      "\n",
      "\u001b[32;1mid               : \u001b[0m0029356a-055b-4105-83a2-51fb475f1408\n",
      "\u001b[32;1mdistance         : \u001b[0m\n",
      "\u001b[32;1mfactType         : \u001b[0mfaq\n",
      "\u001b[32;1mcategory         : \u001b[0mmovie\n",
      "\u001b[32;1mtags             : \u001b[0m\n",
      "\u001b[32;1mtitle            : \u001b[0mThe annual \"awards\" given out around the same time as the Oscars that “honor” \n",
      "                   the best of the worst in film, acting, and directing celebrated their 40th \n",
      "                   anniversary in 2020. What is the name of these \"awards?\"\n",
      "\u001b[32;1mcontent          : \u001b[0mThe Golden Raspberries (Razzies)\n",
      "\u001b[32;1mcitation         : \u001b[0mFAQ#97\n",
      "\u001b[32;1mreference        : \u001b[0m\n",
      "\u001b[32;1mexpiration       : \u001b[0m\n",
      "\u001b[32;1mlocation         : \u001b[0m\n",
      "\u001b[32;1mlocationDistance : \u001b[0m\n",
      "\u001b[32;1mlocationName     : \u001b[0m\n",
      "\u001b[32;1meditPrincipals   : \u001b[0m\n",
      "\u001b[32;1mvalidFrom        : \u001b[0m\n",
      "\u001b[32;1mvalidTo          : \u001b[0m\n",
      "\u001b[32;1mfactAdded        : \u001b[0m12/20/2023 1:24:41 PM\n",
      "\n",
      "\u001b[32;1mid               : \u001b[0m0087916e-febd-4624-a7ec-8abb921ff443\n",
      "\u001b[32;1mdistance         : \u001b[0m\n",
      "\u001b[32;1mfactType         : \u001b[0mfaq\n",
      "\u001b[32;1mcategory         : \u001b[0mmovie\n",
      "\u001b[32;1mtags             : \u001b[0m\n",
      "\u001b[32;1mtitle            : \u001b[0mThough she gave it to Obi-Wan shortly before she died, Padmé was buried with a \n",
      "                   good luck charm that had been made by Anakin. It was made from japor ivory \n",
      "                   wood, a type of wood from what planet?\n",
      "\u001b[32;1mcontent          : \u001b[0mTatooine\n",
      "\u001b[32;1mcitation         : \u001b[0mFAQ#271\n",
      "\u001b[32;1mreference        : \u001b[0m\n",
      "\u001b[32;1mexpiration       : \u001b[0m\n",
      "\u001b[32;1mlocation         : \u001b[0m\n",
      "\u001b[32;1mlocationDistance : \u001b[0m\n",
      "\u001b[32;1mlocationName     : \u001b[0m\n",
      "\u001b[32;1meditPrincipals   : \u001b[0m\n",
      "\u001b[32;1mvalidFrom        : \u001b[0m\n",
      "\u001b[32;1mvalidTo          : \u001b[0m\n",
      "\u001b[32;1mfactAdded        : \u001b[0m12/20/2023 1:25:54 PM\n",
      "\n",
      "\u001b[32;1mid               : \u001b[0m00e09a80-534e-4542-972f-c18cd1f80bb8\n",
      "\u001b[32;1mdistance         : \u001b[0m\n",
      "\u001b[32;1mfactType         : \u001b[0mfaq\n",
      "\u001b[32;1mcategory         : \u001b[0mmovie\n",
      "\u001b[32;1mtags             : \u001b[0m\n",
      "\u001b[32;1mtitle            : \u001b[0mWhat character is responsible for the death of Jabba the Hutt in Return of the \n",
      "                   Jedi?\n",
      "\u001b[32;1mcontent          : \u001b[0mLeia\n",
      "\u001b[32;1mcitation         : \u001b[0mFAQ#223\n",
      "\u001b[32;1mreference        : \u001b[0m\n",
      "\u001b[32;1mexpiration       : \u001b[0m\n",
      "\u001b[32;1mlocation         : \u001b[0m\n",
      "\u001b[32;1mlocationDistance : \u001b[0m\n",
      "\u001b[32;1mlocationName     : \u001b[0m\n",
      "\u001b[32;1meditPrincipals   : \u001b[0m\n",
      "\u001b[32;1mvalidFrom        : \u001b[0m\n",
      "\u001b[32;1mvalidTo          : \u001b[0m\n",
      "\u001b[32;1mfactAdded        : \u001b[0m12/20/2023 1:25:32 PM\n",
      "\n",
      "\u001b[32;1mid               : \u001b[0m013bb0d2-5220-4f65-93de-b533ae874cb0\n",
      "\u001b[32;1mdistance         : \u001b[0m\n",
      "\u001b[32;1mfactType         : \u001b[0mfaq\n",
      "\u001b[32;1mcategory         : \u001b[0mmovie\n",
      "\u001b[32;1mtags             : \u001b[0m\n",
      "\u001b[32;1mtitle            : \u001b[0mPolitical activist and documentary filmmaker Michael Moore is from what \n",
      "                   now-infamous Michigan city?\n",
      "\u001b[32;1mcontent          : \u001b[0mFlint\n",
      "\u001b[32;1mcitation         : \u001b[0mFAQ#56\n",
      "\u001b[32;1mreference        : \u001b[0m\n",
      "\u001b[32;1mexpiration       : \u001b[0m\n",
      "\u001b[32;1mlocation         : \u001b[0m\n",
      "\u001b[32;1mlocationDistance : \u001b[0m\n",
      "\u001b[32;1mlocationName     : \u001b[0m\n",
      "\u001b[32;1meditPrincipals   : \u001b[0m\n",
      "\u001b[32;1mvalidFrom        : \u001b[0m\n",
      "\u001b[32;1mvalidTo          : \u001b[0m\n",
      "\u001b[32;1mfactAdded        : \u001b[0m12/20/2023 1:24:23 PM\n",
      "\n",
      "\u001b[32;1mid               : \u001b[0m01981dc5-e567-4308-bb12-58a23bcda269\n",
      "\u001b[32;1mdistance         : \u001b[0m\n",
      "\u001b[32;1mfactType         : \u001b[0mfaq\n",
      "\u001b[32;1mcategory         : \u001b[0mmovie\n",
      "\u001b[32;1mtags             : \u001b[0m\n",
      "\u001b[32;1mtitle            : \u001b[0mWhat film won the Academy Award for Best Original Score in 1983? (Hint: the \n",
      "                   film actually came out in 1982.)\n",
      "\u001b[32;1mcontent          : \u001b[0mE.T. the Extra-Terrestrial\n",
      "\u001b[32;1mcitation         : \u001b[0mFAQ#275\n",
      "\u001b[32;1mreference        : \u001b[0m\n",
      "\u001b[32;1mexpiration       : \u001b[0m\n",
      "\u001b[32;1mlocation         : \u001b[0m\n",
      "\u001b[32;1mlocationDistance : \u001b[0m\n",
      "\u001b[32;1mlocationName     : \u001b[0m\n",
      "\u001b[32;1meditPrincipals   : \u001b[0m\n",
      "\u001b[32;1mvalidFrom        : \u001b[0m\n",
      "\u001b[32;1mvalidTo          : \u001b[0m\n",
      "\u001b[32;1mfactAdded        : \u001b[0m12/20/2023 1:25:55 PM\n",
      "\n"
     ]
    }
   ],
   "source": [
    "Get-Facts -Limit 5"
   ]
  },
  {
   "cell_type": "markdown",
   "metadata": {},
   "source": [
    "If you are running in a windows terminal you can use the `Out-GridView` command to display the facts in a separate window:\n",
    "\n",
    "    Get-Facts | Out-GridView"
   ]
  },
  {
   "cell_type": "markdown",
   "metadata": {},
   "source": [
    "_Oraculum_ uses _Weaviate_ ability to order facts by the embedding of the query (closer vectors are more relevant *even if the query is expressed in a different language than the one of the facts*). The Find-RelevantFacts command is used to see the distance between a query and the facts in the repository:"
   ]
  },
  {
   "cell_type": "code",
   "execution_count": 10,
   "metadata": {
    "dotnet_interactive": {
     "language": "pwsh"
    },
    "polyglot_notebook": {
     "kernelName": "pwsh"
    },
    "vscode": {
     "languageId": "polyglot-notebook"
    }
   },
   "outputs": [
    {
     "name": "stdout",
     "output_type": "stream",
     "text": [
      "\n",
      "\u001b[32;1mdistance\u001b[0m\u001b[32;1m title\u001b[0m\n",
      "\u001b[32;1m--------\u001b[0m \u001b[32;1m-----                                                                                     \u001b[0m\n",
      "   0.144 What is the name of the carnivorous creature from Tatooine that C-3PO is talking about wh…\n",
      "   0.199 In the affectionate Star Wars parody, “Space Balls,” the film renames the slimy crime lor…\n",
      "   0.204 Jabba The Hut’s pet/sidekick in \"Return Of The Jedi\", a noisy little rodent, is named Sal…\n",
      "   0.211 George Lucas is on record saying that its shape was inspired by a hamburger, how is the l…\n",
      "   0.213 What hyperspace route passing by the Maw nebula did Han Solo traverse in the Millenium Fa…\n",
      "\n"
     ]
    }
   ],
   "source": [
    "Find-RelevantFacts -Query \"What do you know about Sarlacc?\" -Limit 5 | select distance, title, content"
   ]
  },
  {
   "cell_type": "markdown",
   "metadata": {},
   "source": [
    "## Starting a Sibylla session\n",
    "\n",
    "You can easily test your Sibylla session by using the `New-SibyllaSession` command. This command takes a single parameter, the configuration of the session. The command will interactively ask for prompts and will display answers until `#quit` will not be entered (again pay attention to the top of the Visual Studio Code window for the input box):"
   ]
  },
  {
   "cell_type": "code",
   "execution_count": 14,
   "metadata": {
    "dotnet_interactive": {
     "language": "pwsh"
    },
    "polyglot_notebook": {
     "kernelName": "pwsh"
    },
    "vscode": {
     "languageId": "polyglot-notebook"
    }
   },
   "outputs": [
    {
     "name": "stdout",
     "output_type": "stream",
     "text": [
      "\u001b[93;40mAssistant: Hello from your personal movie assistant. I know curiosities about 287 movies, try me!\u001b[0m\n",
      "You: \u001b[93;40mAssistant: \u001b[0m\u001b[93;40mDid\u001b[0m\u001b[93;40m you\u001b[0m\u001b[93;40m know\u001b[0m\u001b[93;40m that\u001b[0m\u001b[93;40m the\u001b[0m\u001b[93;40m \u001b[0m\u001b[93;40m201\u001b[0m\u001b[93;40m5\u001b[0m\u001b[93;40m Star\u001b[0m\u001b[93;40m Wars\u001b[0m\u001b[93;40m movie\u001b[0m\u001b[93;40m directed\u001b[0m\u001b[93;40m by\u001b[0m\u001b[93;40m J\u001b[0m\u001b[93;40m.J\u001b[0m\u001b[93;40m.\u001b[0m\u001b[93;40m Abrams\u001b[0m\u001b[93;40m,\u001b[0m\u001b[93;40m \"\u001b[0m\u001b[93;40mThe\u001b[0m\u001b[93;40m Force\u001b[0m\u001b[93;40m Aw\u001b[0m\u001b[93;40makens\u001b[0m\u001b[93;40m,\"\u001b[0m\u001b[93;40m was\u001b[0m\u001b[93;40m the\u001b[0m\u001b[93;40m first\u001b[0m\u001b[93;40m film\u001b[0m\u001b[93;40m in\u001b[0m\u001b[93;40m the\u001b[0m\u001b[93;40m franchise\u001b[0m\u001b[93;40m that\u001b[0m\u001b[93;40m didn\u001b[0m\u001b[93;40m't\u001b[0m\u001b[93;40m have\u001b[0m\u001b[93;40m a\u001b[0m\u001b[93;40m video\u001b[0m\u001b[93;40m game\u001b[0m\u001b[93;40m tie\u001b[0m\u001b[93;40m-in\u001b[0m\u001b[93;40m when\u001b[0m\u001b[93;40m it\u001b[0m\u001b[93;40m came\u001b[0m\u001b[93;40m out\u001b[0m\u001b[93;40m?\u001b[0m\u001b[93;40m However\u001b[0m\u001b[93;40m,\u001b[0m\u001b[93;40m it\u001b[0m\u001b[93;40m did\u001b[0m\u001b[93;40m eventually\u001b[0m\u001b[93;40m get\u001b[0m\u001b[93;40m a\u001b[0m\u001b[93;40m video\u001b[0m\u001b[93;40m game\u001b[0m\u001b[93;40m,\u001b[0m\u001b[93;40m but\u001b[0m\u001b[93;40m just\u001b[0m\u001b[93;40m the\u001b[0m\u001b[93;40m Lego\u001b[0m\u001b[93;40m version\u001b[0m\u001b[93;40m.\u001b[0m [\u001b[93;40mFAQ\u001b[0m\u001b[93;40m#\u001b[0m\u001b[93;40m204\u001b[0m\u001b[93;40m]\u001b[0m\n",
      "You: "
     ]
    }
   ],
   "source": [
    "New-SibyllaSession -ConfigFile ./sibylla.conf"
   ]
  }
 ],
 "metadata": {
  "language_info": {
   "name": "csharp"
  },
  "orig_nbformat": 4
 },
 "nbformat": 4,
 "nbformat_minor": 2
}
